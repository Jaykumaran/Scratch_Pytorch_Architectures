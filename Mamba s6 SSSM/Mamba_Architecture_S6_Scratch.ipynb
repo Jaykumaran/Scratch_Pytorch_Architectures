{
  "nbformat": 4,
  "nbformat_minor": 0,
  "metadata": {
    "colab": {
      "provenance": [],
      "gpuType": "T4"
    },
    "kernelspec": {
      "name": "python3",
      "display_name": "Python 3"
    },
    "language_info": {
      "name": "python"
    },
    "accelerator": "GPU",
    "widgets": {
      "application/vnd.jupyter.widget-state+json": {
        "17051d49932344d7800dd4218be19791": {
          "model_module": "@jupyter-widgets/controls",
          "model_name": "VBoxModel",
          "model_module_version": "1.5.0",
          "state": {
            "_dom_classes": [],
            "_model_module": "@jupyter-widgets/controls",
            "_model_module_version": "1.5.0",
            "_model_name": "VBoxModel",
            "_view_count": null,
            "_view_module": "@jupyter-widgets/controls",
            "_view_module_version": "1.5.0",
            "_view_name": "VBoxView",
            "box_style": "",
            "children": [
              "IPY_MODEL_b832a9a3b4de41a6b0c7e60a9ba7a6ac",
              "IPY_MODEL_912d9c9ebf1049b4ac2767f3b66d3131",
              "IPY_MODEL_ed64e6a5bebe4c82a9f7013c7e706388",
              "IPY_MODEL_37b4e188aeae42cd82d8efdc1eaad747"
            ],
            "layout": "IPY_MODEL_bc4e91cc8b3d4925bdf21a7e464527e1"
          }
        },
        "d41e0ca106794f67a36b85104b941faa": {
          "model_module": "@jupyter-widgets/controls",
          "model_name": "HTMLModel",
          "model_module_version": "1.5.0",
          "state": {
            "_dom_classes": [],
            "_model_module": "@jupyter-widgets/controls",
            "_model_module_version": "1.5.0",
            "_model_name": "HTMLModel",
            "_view_count": null,
            "_view_module": "@jupyter-widgets/controls",
            "_view_module_version": "1.5.0",
            "_view_name": "HTMLView",
            "description": "",
            "description_tooltip": null,
            "layout": "IPY_MODEL_9f60094953764831bc040dc1c560ef52",
            "placeholder": "​",
            "style": "IPY_MODEL_23f2811e554744178350211ebd70821f",
            "value": "<center> <img\nsrc=https://huggingface.co/front/assets/huggingface_logo-noborder.svg\nalt='Hugging Face'> <br> Copy a token from <a\nhref=\"https://huggingface.co/settings/tokens\" target=\"_blank\">your Hugging Face\ntokens page</a> and paste it below. <br> Immediately click login after copying\nyour token or it might be stored in plain text in this notebook file. </center>"
          }
        },
        "1e99fc16de314e9e81ebc0c1956c2d28": {
          "model_module": "@jupyter-widgets/controls",
          "model_name": "PasswordModel",
          "model_module_version": "1.5.0",
          "state": {
            "_dom_classes": [],
            "_model_module": "@jupyter-widgets/controls",
            "_model_module_version": "1.5.0",
            "_model_name": "PasswordModel",
            "_view_count": null,
            "_view_module": "@jupyter-widgets/controls",
            "_view_module_version": "1.5.0",
            "_view_name": "PasswordView",
            "continuous_update": true,
            "description": "Token:",
            "description_tooltip": null,
            "disabled": false,
            "layout": "IPY_MODEL_fd6ade4c523f4cab87c4952bfd0cd024",
            "placeholder": "​",
            "style": "IPY_MODEL_0fd02230517e46b580fa1128b3cd9052",
            "value": ""
          }
        },
        "19676dd7a0154225bbed51f7c3806f3d": {
          "model_module": "@jupyter-widgets/controls",
          "model_name": "CheckboxModel",
          "model_module_version": "1.5.0",
          "state": {
            "_dom_classes": [],
            "_model_module": "@jupyter-widgets/controls",
            "_model_module_version": "1.5.0",
            "_model_name": "CheckboxModel",
            "_view_count": null,
            "_view_module": "@jupyter-widgets/controls",
            "_view_module_version": "1.5.0",
            "_view_name": "CheckboxView",
            "description": "Add token as git credential?",
            "description_tooltip": null,
            "disabled": false,
            "indent": true,
            "layout": "IPY_MODEL_b922ebbc15a04a5294f25d4b868d1350",
            "style": "IPY_MODEL_c62407bc83934f72a52b1b3fc107852c",
            "value": true
          }
        },
        "2d4cc2ddf76b4c42bbd48d41ec45798c": {
          "model_module": "@jupyter-widgets/controls",
          "model_name": "ButtonModel",
          "model_module_version": "1.5.0",
          "state": {
            "_dom_classes": [],
            "_model_module": "@jupyter-widgets/controls",
            "_model_module_version": "1.5.0",
            "_model_name": "ButtonModel",
            "_view_count": null,
            "_view_module": "@jupyter-widgets/controls",
            "_view_module_version": "1.5.0",
            "_view_name": "ButtonView",
            "button_style": "",
            "description": "Login",
            "disabled": false,
            "icon": "",
            "layout": "IPY_MODEL_568cde145e8b489aa8a89f1096f239c3",
            "style": "IPY_MODEL_44fd79283a5948c99d117d57f09edae7",
            "tooltip": ""
          }
        },
        "0f3c62bc70d04af6addd8dc25ef7a42c": {
          "model_module": "@jupyter-widgets/controls",
          "model_name": "HTMLModel",
          "model_module_version": "1.5.0",
          "state": {
            "_dom_classes": [],
            "_model_module": "@jupyter-widgets/controls",
            "_model_module_version": "1.5.0",
            "_model_name": "HTMLModel",
            "_view_count": null,
            "_view_module": "@jupyter-widgets/controls",
            "_view_module_version": "1.5.0",
            "_view_name": "HTMLView",
            "description": "",
            "description_tooltip": null,
            "layout": "IPY_MODEL_e18b9645b5c44371a17c6c7cfef08bf4",
            "placeholder": "​",
            "style": "IPY_MODEL_a1b428923c7f4516a0961547618af811",
            "value": "\n<b>Pro Tip:</b> If you don't already have one, you can create a dedicated\n'notebooks' token with 'write' access, that you can then easily reuse for all\nnotebooks. </center>"
          }
        },
        "bc4e91cc8b3d4925bdf21a7e464527e1": {
          "model_module": "@jupyter-widgets/base",
          "model_name": "LayoutModel",
          "model_module_version": "1.2.0",
          "state": {
            "_model_module": "@jupyter-widgets/base",
            "_model_module_version": "1.2.0",
            "_model_name": "LayoutModel",
            "_view_count": null,
            "_view_module": "@jupyter-widgets/base",
            "_view_module_version": "1.2.0",
            "_view_name": "LayoutView",
            "align_content": null,
            "align_items": "center",
            "align_self": null,
            "border": null,
            "bottom": null,
            "display": "flex",
            "flex": null,
            "flex_flow": "column",
            "grid_area": null,
            "grid_auto_columns": null,
            "grid_auto_flow": null,
            "grid_auto_rows": null,
            "grid_column": null,
            "grid_gap": null,
            "grid_row": null,
            "grid_template_areas": null,
            "grid_template_columns": null,
            "grid_template_rows": null,
            "height": null,
            "justify_content": null,
            "justify_items": null,
            "left": null,
            "margin": null,
            "max_height": null,
            "max_width": null,
            "min_height": null,
            "min_width": null,
            "object_fit": null,
            "object_position": null,
            "order": null,
            "overflow": null,
            "overflow_x": null,
            "overflow_y": null,
            "padding": null,
            "right": null,
            "top": null,
            "visibility": null,
            "width": "50%"
          }
        },
        "9f60094953764831bc040dc1c560ef52": {
          "model_module": "@jupyter-widgets/base",
          "model_name": "LayoutModel",
          "model_module_version": "1.2.0",
          "state": {
            "_model_module": "@jupyter-widgets/base",
            "_model_module_version": "1.2.0",
            "_model_name": "LayoutModel",
            "_view_count": null,
            "_view_module": "@jupyter-widgets/base",
            "_view_module_version": "1.2.0",
            "_view_name": "LayoutView",
            "align_content": null,
            "align_items": null,
            "align_self": null,
            "border": null,
            "bottom": null,
            "display": null,
            "flex": null,
            "flex_flow": null,
            "grid_area": null,
            "grid_auto_columns": null,
            "grid_auto_flow": null,
            "grid_auto_rows": null,
            "grid_column": null,
            "grid_gap": null,
            "grid_row": null,
            "grid_template_areas": null,
            "grid_template_columns": null,
            "grid_template_rows": null,
            "height": null,
            "justify_content": null,
            "justify_items": null,
            "left": null,
            "margin": null,
            "max_height": null,
            "max_width": null,
            "min_height": null,
            "min_width": null,
            "object_fit": null,
            "object_position": null,
            "order": null,
            "overflow": null,
            "overflow_x": null,
            "overflow_y": null,
            "padding": null,
            "right": null,
            "top": null,
            "visibility": null,
            "width": null
          }
        },
        "23f2811e554744178350211ebd70821f": {
          "model_module": "@jupyter-widgets/controls",
          "model_name": "DescriptionStyleModel",
          "model_module_version": "1.5.0",
          "state": {
            "_model_module": "@jupyter-widgets/controls",
            "_model_module_version": "1.5.0",
            "_model_name": "DescriptionStyleModel",
            "_view_count": null,
            "_view_module": "@jupyter-widgets/base",
            "_view_module_version": "1.2.0",
            "_view_name": "StyleView",
            "description_width": ""
          }
        },
        "fd6ade4c523f4cab87c4952bfd0cd024": {
          "model_module": "@jupyter-widgets/base",
          "model_name": "LayoutModel",
          "model_module_version": "1.2.0",
          "state": {
            "_model_module": "@jupyter-widgets/base",
            "_model_module_version": "1.2.0",
            "_model_name": "LayoutModel",
            "_view_count": null,
            "_view_module": "@jupyter-widgets/base",
            "_view_module_version": "1.2.0",
            "_view_name": "LayoutView",
            "align_content": null,
            "align_items": null,
            "align_self": null,
            "border": null,
            "bottom": null,
            "display": null,
            "flex": null,
            "flex_flow": null,
            "grid_area": null,
            "grid_auto_columns": null,
            "grid_auto_flow": null,
            "grid_auto_rows": null,
            "grid_column": null,
            "grid_gap": null,
            "grid_row": null,
            "grid_template_areas": null,
            "grid_template_columns": null,
            "grid_template_rows": null,
            "height": null,
            "justify_content": null,
            "justify_items": null,
            "left": null,
            "margin": null,
            "max_height": null,
            "max_width": null,
            "min_height": null,
            "min_width": null,
            "object_fit": null,
            "object_position": null,
            "order": null,
            "overflow": null,
            "overflow_x": null,
            "overflow_y": null,
            "padding": null,
            "right": null,
            "top": null,
            "visibility": null,
            "width": null
          }
        },
        "0fd02230517e46b580fa1128b3cd9052": {
          "model_module": "@jupyter-widgets/controls",
          "model_name": "DescriptionStyleModel",
          "model_module_version": "1.5.0",
          "state": {
            "_model_module": "@jupyter-widgets/controls",
            "_model_module_version": "1.5.0",
            "_model_name": "DescriptionStyleModel",
            "_view_count": null,
            "_view_module": "@jupyter-widgets/base",
            "_view_module_version": "1.2.0",
            "_view_name": "StyleView",
            "description_width": ""
          }
        },
        "b922ebbc15a04a5294f25d4b868d1350": {
          "model_module": "@jupyter-widgets/base",
          "model_name": "LayoutModel",
          "model_module_version": "1.2.0",
          "state": {
            "_model_module": "@jupyter-widgets/base",
            "_model_module_version": "1.2.0",
            "_model_name": "LayoutModel",
            "_view_count": null,
            "_view_module": "@jupyter-widgets/base",
            "_view_module_version": "1.2.0",
            "_view_name": "LayoutView",
            "align_content": null,
            "align_items": null,
            "align_self": null,
            "border": null,
            "bottom": null,
            "display": null,
            "flex": null,
            "flex_flow": null,
            "grid_area": null,
            "grid_auto_columns": null,
            "grid_auto_flow": null,
            "grid_auto_rows": null,
            "grid_column": null,
            "grid_gap": null,
            "grid_row": null,
            "grid_template_areas": null,
            "grid_template_columns": null,
            "grid_template_rows": null,
            "height": null,
            "justify_content": null,
            "justify_items": null,
            "left": null,
            "margin": null,
            "max_height": null,
            "max_width": null,
            "min_height": null,
            "min_width": null,
            "object_fit": null,
            "object_position": null,
            "order": null,
            "overflow": null,
            "overflow_x": null,
            "overflow_y": null,
            "padding": null,
            "right": null,
            "top": null,
            "visibility": null,
            "width": null
          }
        },
        "c62407bc83934f72a52b1b3fc107852c": {
          "model_module": "@jupyter-widgets/controls",
          "model_name": "DescriptionStyleModel",
          "model_module_version": "1.5.0",
          "state": {
            "_model_module": "@jupyter-widgets/controls",
            "_model_module_version": "1.5.0",
            "_model_name": "DescriptionStyleModel",
            "_view_count": null,
            "_view_module": "@jupyter-widgets/base",
            "_view_module_version": "1.2.0",
            "_view_name": "StyleView",
            "description_width": ""
          }
        },
        "568cde145e8b489aa8a89f1096f239c3": {
          "model_module": "@jupyter-widgets/base",
          "model_name": "LayoutModel",
          "model_module_version": "1.2.0",
          "state": {
            "_model_module": "@jupyter-widgets/base",
            "_model_module_version": "1.2.0",
            "_model_name": "LayoutModel",
            "_view_count": null,
            "_view_module": "@jupyter-widgets/base",
            "_view_module_version": "1.2.0",
            "_view_name": "LayoutView",
            "align_content": null,
            "align_items": null,
            "align_self": null,
            "border": null,
            "bottom": null,
            "display": null,
            "flex": null,
            "flex_flow": null,
            "grid_area": null,
            "grid_auto_columns": null,
            "grid_auto_flow": null,
            "grid_auto_rows": null,
            "grid_column": null,
            "grid_gap": null,
            "grid_row": null,
            "grid_template_areas": null,
            "grid_template_columns": null,
            "grid_template_rows": null,
            "height": null,
            "justify_content": null,
            "justify_items": null,
            "left": null,
            "margin": null,
            "max_height": null,
            "max_width": null,
            "min_height": null,
            "min_width": null,
            "object_fit": null,
            "object_position": null,
            "order": null,
            "overflow": null,
            "overflow_x": null,
            "overflow_y": null,
            "padding": null,
            "right": null,
            "top": null,
            "visibility": null,
            "width": null
          }
        },
        "44fd79283a5948c99d117d57f09edae7": {
          "model_module": "@jupyter-widgets/controls",
          "model_name": "ButtonStyleModel",
          "model_module_version": "1.5.0",
          "state": {
            "_model_module": "@jupyter-widgets/controls",
            "_model_module_version": "1.5.0",
            "_model_name": "ButtonStyleModel",
            "_view_count": null,
            "_view_module": "@jupyter-widgets/base",
            "_view_module_version": "1.2.0",
            "_view_name": "StyleView",
            "button_color": null,
            "font_weight": ""
          }
        },
        "e18b9645b5c44371a17c6c7cfef08bf4": {
          "model_module": "@jupyter-widgets/base",
          "model_name": "LayoutModel",
          "model_module_version": "1.2.0",
          "state": {
            "_model_module": "@jupyter-widgets/base",
            "_model_module_version": "1.2.0",
            "_model_name": "LayoutModel",
            "_view_count": null,
            "_view_module": "@jupyter-widgets/base",
            "_view_module_version": "1.2.0",
            "_view_name": "LayoutView",
            "align_content": null,
            "align_items": null,
            "align_self": null,
            "border": null,
            "bottom": null,
            "display": null,
            "flex": null,
            "flex_flow": null,
            "grid_area": null,
            "grid_auto_columns": null,
            "grid_auto_flow": null,
            "grid_auto_rows": null,
            "grid_column": null,
            "grid_gap": null,
            "grid_row": null,
            "grid_template_areas": null,
            "grid_template_columns": null,
            "grid_template_rows": null,
            "height": null,
            "justify_content": null,
            "justify_items": null,
            "left": null,
            "margin": null,
            "max_height": null,
            "max_width": null,
            "min_height": null,
            "min_width": null,
            "object_fit": null,
            "object_position": null,
            "order": null,
            "overflow": null,
            "overflow_x": null,
            "overflow_y": null,
            "padding": null,
            "right": null,
            "top": null,
            "visibility": null,
            "width": null
          }
        },
        "a1b428923c7f4516a0961547618af811": {
          "model_module": "@jupyter-widgets/controls",
          "model_name": "DescriptionStyleModel",
          "model_module_version": "1.5.0",
          "state": {
            "_model_module": "@jupyter-widgets/controls",
            "_model_module_version": "1.5.0",
            "_model_name": "DescriptionStyleModel",
            "_view_count": null,
            "_view_module": "@jupyter-widgets/base",
            "_view_module_version": "1.2.0",
            "_view_name": "StyleView",
            "description_width": ""
          }
        },
        "fac18c52b37f4f969c737054af984e63": {
          "model_module": "@jupyter-widgets/controls",
          "model_name": "LabelModel",
          "model_module_version": "1.5.0",
          "state": {
            "_dom_classes": [],
            "_model_module": "@jupyter-widgets/controls",
            "_model_module_version": "1.5.0",
            "_model_name": "LabelModel",
            "_view_count": null,
            "_view_module": "@jupyter-widgets/controls",
            "_view_module_version": "1.5.0",
            "_view_name": "LabelView",
            "description": "",
            "description_tooltip": null,
            "layout": "IPY_MODEL_be365d64134847f692513e3947620caa",
            "placeholder": "​",
            "style": "IPY_MODEL_56eff172d94f479293e39bc494658e2a",
            "value": "Connecting..."
          }
        },
        "be365d64134847f692513e3947620caa": {
          "model_module": "@jupyter-widgets/base",
          "model_name": "LayoutModel",
          "model_module_version": "1.2.0",
          "state": {
            "_model_module": "@jupyter-widgets/base",
            "_model_module_version": "1.2.0",
            "_model_name": "LayoutModel",
            "_view_count": null,
            "_view_module": "@jupyter-widgets/base",
            "_view_module_version": "1.2.0",
            "_view_name": "LayoutView",
            "align_content": null,
            "align_items": null,
            "align_self": null,
            "border": null,
            "bottom": null,
            "display": null,
            "flex": null,
            "flex_flow": null,
            "grid_area": null,
            "grid_auto_columns": null,
            "grid_auto_flow": null,
            "grid_auto_rows": null,
            "grid_column": null,
            "grid_gap": null,
            "grid_row": null,
            "grid_template_areas": null,
            "grid_template_columns": null,
            "grid_template_rows": null,
            "height": null,
            "justify_content": null,
            "justify_items": null,
            "left": null,
            "margin": null,
            "max_height": null,
            "max_width": null,
            "min_height": null,
            "min_width": null,
            "object_fit": null,
            "object_position": null,
            "order": null,
            "overflow": null,
            "overflow_x": null,
            "overflow_y": null,
            "padding": null,
            "right": null,
            "top": null,
            "visibility": null,
            "width": null
          }
        },
        "56eff172d94f479293e39bc494658e2a": {
          "model_module": "@jupyter-widgets/controls",
          "model_name": "DescriptionStyleModel",
          "model_module_version": "1.5.0",
          "state": {
            "_model_module": "@jupyter-widgets/controls",
            "_model_module_version": "1.5.0",
            "_model_name": "DescriptionStyleModel",
            "_view_count": null,
            "_view_module": "@jupyter-widgets/base",
            "_view_module_version": "1.2.0",
            "_view_name": "StyleView",
            "description_width": ""
          }
        },
        "b832a9a3b4de41a6b0c7e60a9ba7a6ac": {
          "model_module": "@jupyter-widgets/controls",
          "model_name": "LabelModel",
          "model_module_version": "1.5.0",
          "state": {
            "_dom_classes": [],
            "_model_module": "@jupyter-widgets/controls",
            "_model_module_version": "1.5.0",
            "_model_name": "LabelModel",
            "_view_count": null,
            "_view_module": "@jupyter-widgets/controls",
            "_view_module_version": "1.5.0",
            "_view_name": "LabelView",
            "description": "",
            "description_tooltip": null,
            "layout": "IPY_MODEL_d3071cb8ba264fec8e7a066cc8e3be6e",
            "placeholder": "​",
            "style": "IPY_MODEL_222ce878d2a9415b8f4e540d387d9b07",
            "value": "Token is valid (permission: write)."
          }
        },
        "912d9c9ebf1049b4ac2767f3b66d3131": {
          "model_module": "@jupyter-widgets/controls",
          "model_name": "LabelModel",
          "model_module_version": "1.5.0",
          "state": {
            "_dom_classes": [],
            "_model_module": "@jupyter-widgets/controls",
            "_model_module_version": "1.5.0",
            "_model_name": "LabelModel",
            "_view_count": null,
            "_view_module": "@jupyter-widgets/controls",
            "_view_module_version": "1.5.0",
            "_view_name": "LabelView",
            "description": "",
            "description_tooltip": null,
            "layout": "IPY_MODEL_abca162020834b6e9a621d33120aa130",
            "placeholder": "​",
            "style": "IPY_MODEL_ef32fbb014754d60a86e0d099b7ea62b",
            "value": "Your token has been saved in your configured git credential helpers (store)."
          }
        },
        "ed64e6a5bebe4c82a9f7013c7e706388": {
          "model_module": "@jupyter-widgets/controls",
          "model_name": "LabelModel",
          "model_module_version": "1.5.0",
          "state": {
            "_dom_classes": [],
            "_model_module": "@jupyter-widgets/controls",
            "_model_module_version": "1.5.0",
            "_model_name": "LabelModel",
            "_view_count": null,
            "_view_module": "@jupyter-widgets/controls",
            "_view_module_version": "1.5.0",
            "_view_name": "LabelView",
            "description": "",
            "description_tooltip": null,
            "layout": "IPY_MODEL_33dab2bf20764fc6a98633eb6fc5619c",
            "placeholder": "​",
            "style": "IPY_MODEL_178c38026d9f4c3cbf17381a5d86f31a",
            "value": "Your token has been saved to /root/.cache/huggingface/token"
          }
        },
        "37b4e188aeae42cd82d8efdc1eaad747": {
          "model_module": "@jupyter-widgets/controls",
          "model_name": "LabelModel",
          "model_module_version": "1.5.0",
          "state": {
            "_dom_classes": [],
            "_model_module": "@jupyter-widgets/controls",
            "_model_module_version": "1.5.0",
            "_model_name": "LabelModel",
            "_view_count": null,
            "_view_module": "@jupyter-widgets/controls",
            "_view_module_version": "1.5.0",
            "_view_name": "LabelView",
            "description": "",
            "description_tooltip": null,
            "layout": "IPY_MODEL_9b2d9c64f32844428342637895998b8c",
            "placeholder": "​",
            "style": "IPY_MODEL_4b669545492d4dbea96de5b646329522",
            "value": "Login successful"
          }
        },
        "d3071cb8ba264fec8e7a066cc8e3be6e": {
          "model_module": "@jupyter-widgets/base",
          "model_name": "LayoutModel",
          "model_module_version": "1.2.0",
          "state": {
            "_model_module": "@jupyter-widgets/base",
            "_model_module_version": "1.2.0",
            "_model_name": "LayoutModel",
            "_view_count": null,
            "_view_module": "@jupyter-widgets/base",
            "_view_module_version": "1.2.0",
            "_view_name": "LayoutView",
            "align_content": null,
            "align_items": null,
            "align_self": null,
            "border": null,
            "bottom": null,
            "display": null,
            "flex": null,
            "flex_flow": null,
            "grid_area": null,
            "grid_auto_columns": null,
            "grid_auto_flow": null,
            "grid_auto_rows": null,
            "grid_column": null,
            "grid_gap": null,
            "grid_row": null,
            "grid_template_areas": null,
            "grid_template_columns": null,
            "grid_template_rows": null,
            "height": null,
            "justify_content": null,
            "justify_items": null,
            "left": null,
            "margin": null,
            "max_height": null,
            "max_width": null,
            "min_height": null,
            "min_width": null,
            "object_fit": null,
            "object_position": null,
            "order": null,
            "overflow": null,
            "overflow_x": null,
            "overflow_y": null,
            "padding": null,
            "right": null,
            "top": null,
            "visibility": null,
            "width": null
          }
        },
        "222ce878d2a9415b8f4e540d387d9b07": {
          "model_module": "@jupyter-widgets/controls",
          "model_name": "DescriptionStyleModel",
          "model_module_version": "1.5.0",
          "state": {
            "_model_module": "@jupyter-widgets/controls",
            "_model_module_version": "1.5.0",
            "_model_name": "DescriptionStyleModel",
            "_view_count": null,
            "_view_module": "@jupyter-widgets/base",
            "_view_module_version": "1.2.0",
            "_view_name": "StyleView",
            "description_width": ""
          }
        },
        "abca162020834b6e9a621d33120aa130": {
          "model_module": "@jupyter-widgets/base",
          "model_name": "LayoutModel",
          "model_module_version": "1.2.0",
          "state": {
            "_model_module": "@jupyter-widgets/base",
            "_model_module_version": "1.2.0",
            "_model_name": "LayoutModel",
            "_view_count": null,
            "_view_module": "@jupyter-widgets/base",
            "_view_module_version": "1.2.0",
            "_view_name": "LayoutView",
            "align_content": null,
            "align_items": null,
            "align_self": null,
            "border": null,
            "bottom": null,
            "display": null,
            "flex": null,
            "flex_flow": null,
            "grid_area": null,
            "grid_auto_columns": null,
            "grid_auto_flow": null,
            "grid_auto_rows": null,
            "grid_column": null,
            "grid_gap": null,
            "grid_row": null,
            "grid_template_areas": null,
            "grid_template_columns": null,
            "grid_template_rows": null,
            "height": null,
            "justify_content": null,
            "justify_items": null,
            "left": null,
            "margin": null,
            "max_height": null,
            "max_width": null,
            "min_height": null,
            "min_width": null,
            "object_fit": null,
            "object_position": null,
            "order": null,
            "overflow": null,
            "overflow_x": null,
            "overflow_y": null,
            "padding": null,
            "right": null,
            "top": null,
            "visibility": null,
            "width": null
          }
        },
        "ef32fbb014754d60a86e0d099b7ea62b": {
          "model_module": "@jupyter-widgets/controls",
          "model_name": "DescriptionStyleModel",
          "model_module_version": "1.5.0",
          "state": {
            "_model_module": "@jupyter-widgets/controls",
            "_model_module_version": "1.5.0",
            "_model_name": "DescriptionStyleModel",
            "_view_count": null,
            "_view_module": "@jupyter-widgets/base",
            "_view_module_version": "1.2.0",
            "_view_name": "StyleView",
            "description_width": ""
          }
        },
        "33dab2bf20764fc6a98633eb6fc5619c": {
          "model_module": "@jupyter-widgets/base",
          "model_name": "LayoutModel",
          "model_module_version": "1.2.0",
          "state": {
            "_model_module": "@jupyter-widgets/base",
            "_model_module_version": "1.2.0",
            "_model_name": "LayoutModel",
            "_view_count": null,
            "_view_module": "@jupyter-widgets/base",
            "_view_module_version": "1.2.0",
            "_view_name": "LayoutView",
            "align_content": null,
            "align_items": null,
            "align_self": null,
            "border": null,
            "bottom": null,
            "display": null,
            "flex": null,
            "flex_flow": null,
            "grid_area": null,
            "grid_auto_columns": null,
            "grid_auto_flow": null,
            "grid_auto_rows": null,
            "grid_column": null,
            "grid_gap": null,
            "grid_row": null,
            "grid_template_areas": null,
            "grid_template_columns": null,
            "grid_template_rows": null,
            "height": null,
            "justify_content": null,
            "justify_items": null,
            "left": null,
            "margin": null,
            "max_height": null,
            "max_width": null,
            "min_height": null,
            "min_width": null,
            "object_fit": null,
            "object_position": null,
            "order": null,
            "overflow": null,
            "overflow_x": null,
            "overflow_y": null,
            "padding": null,
            "right": null,
            "top": null,
            "visibility": null,
            "width": null
          }
        },
        "178c38026d9f4c3cbf17381a5d86f31a": {
          "model_module": "@jupyter-widgets/controls",
          "model_name": "DescriptionStyleModel",
          "model_module_version": "1.5.0",
          "state": {
            "_model_module": "@jupyter-widgets/controls",
            "_model_module_version": "1.5.0",
            "_model_name": "DescriptionStyleModel",
            "_view_count": null,
            "_view_module": "@jupyter-widgets/base",
            "_view_module_version": "1.2.0",
            "_view_name": "StyleView",
            "description_width": ""
          }
        },
        "9b2d9c64f32844428342637895998b8c": {
          "model_module": "@jupyter-widgets/base",
          "model_name": "LayoutModel",
          "model_module_version": "1.2.0",
          "state": {
            "_model_module": "@jupyter-widgets/base",
            "_model_module_version": "1.2.0",
            "_model_name": "LayoutModel",
            "_view_count": null,
            "_view_module": "@jupyter-widgets/base",
            "_view_module_version": "1.2.0",
            "_view_name": "LayoutView",
            "align_content": null,
            "align_items": null,
            "align_self": null,
            "border": null,
            "bottom": null,
            "display": null,
            "flex": null,
            "flex_flow": null,
            "grid_area": null,
            "grid_auto_columns": null,
            "grid_auto_flow": null,
            "grid_auto_rows": null,
            "grid_column": null,
            "grid_gap": null,
            "grid_row": null,
            "grid_template_areas": null,
            "grid_template_columns": null,
            "grid_template_rows": null,
            "height": null,
            "justify_content": null,
            "justify_items": null,
            "left": null,
            "margin": null,
            "max_height": null,
            "max_width": null,
            "min_height": null,
            "min_width": null,
            "object_fit": null,
            "object_position": null,
            "order": null,
            "overflow": null,
            "overflow_x": null,
            "overflow_y": null,
            "padding": null,
            "right": null,
            "top": null,
            "visibility": null,
            "width": null
          }
        },
        "4b669545492d4dbea96de5b646329522": {
          "model_module": "@jupyter-widgets/controls",
          "model_name": "DescriptionStyleModel",
          "model_module_version": "1.5.0",
          "state": {
            "_model_module": "@jupyter-widgets/controls",
            "_model_module_version": "1.5.0",
            "_model_name": "DescriptionStyleModel",
            "_view_count": null,
            "_view_module": "@jupyter-widgets/base",
            "_view_module_version": "1.2.0",
            "_view_name": "StyleView",
            "description_width": ""
          }
        },
        "1c5536a135aa460ca95fc0061b3b1801": {
          "model_module": "@jupyter-widgets/controls",
          "model_name": "HBoxModel",
          "model_module_version": "1.5.0",
          "state": {
            "_dom_classes": [],
            "_model_module": "@jupyter-widgets/controls",
            "_model_module_version": "1.5.0",
            "_model_name": "HBoxModel",
            "_view_count": null,
            "_view_module": "@jupyter-widgets/controls",
            "_view_module_version": "1.5.0",
            "_view_name": "HBoxView",
            "box_style": "",
            "children": [
              "IPY_MODEL_f42aab0c44c5418ea2471026b0657b09",
              "IPY_MODEL_f6fbb3bfb91240f28c69f7208f8eb915",
              "IPY_MODEL_b73100d2a69c4c058c1a031ef2163fcd"
            ],
            "layout": "IPY_MODEL_9cce727f85514817b6fb857d79a49d33"
          }
        },
        "f42aab0c44c5418ea2471026b0657b09": {
          "model_module": "@jupyter-widgets/controls",
          "model_name": "HTMLModel",
          "model_module_version": "1.5.0",
          "state": {
            "_dom_classes": [],
            "_model_module": "@jupyter-widgets/controls",
            "_model_module_version": "1.5.0",
            "_model_name": "HTMLModel",
            "_view_count": null,
            "_view_module": "@jupyter-widgets/controls",
            "_view_module_version": "1.5.0",
            "_view_name": "HTMLView",
            "description": "",
            "description_tooltip": null,
            "layout": "IPY_MODEL_9a8c32b12c1b44f3b1599bb5f899e1c1",
            "placeholder": "​",
            "style": "IPY_MODEL_1326a965cfb349228d93b4b912c7ef97",
            "value": "tokenizer_config.json: 100%"
          }
        },
        "f6fbb3bfb91240f28c69f7208f8eb915": {
          "model_module": "@jupyter-widgets/controls",
          "model_name": "FloatProgressModel",
          "model_module_version": "1.5.0",
          "state": {
            "_dom_classes": [],
            "_model_module": "@jupyter-widgets/controls",
            "_model_module_version": "1.5.0",
            "_model_name": "FloatProgressModel",
            "_view_count": null,
            "_view_module": "@jupyter-widgets/controls",
            "_view_module_version": "1.5.0",
            "_view_name": "ProgressView",
            "bar_style": "success",
            "description": "",
            "description_tooltip": null,
            "layout": "IPY_MODEL_090a915c74674c2cafed62264fff9a87",
            "max": 28,
            "min": 0,
            "orientation": "horizontal",
            "style": "IPY_MODEL_1a40159f4d2049bd9f525c94b7754d2b",
            "value": 28
          }
        },
        "b73100d2a69c4c058c1a031ef2163fcd": {
          "model_module": "@jupyter-widgets/controls",
          "model_name": "HTMLModel",
          "model_module_version": "1.5.0",
          "state": {
            "_dom_classes": [],
            "_model_module": "@jupyter-widgets/controls",
            "_model_module_version": "1.5.0",
            "_model_name": "HTMLModel",
            "_view_count": null,
            "_view_module": "@jupyter-widgets/controls",
            "_view_module_version": "1.5.0",
            "_view_name": "HTMLView",
            "description": "",
            "description_tooltip": null,
            "layout": "IPY_MODEL_95565ae1b2ad4a648bc07c59d296384f",
            "placeholder": "​",
            "style": "IPY_MODEL_f9989d0aff6c4793ad9180abd324e35f",
            "value": " 28.0/28.0 [00:00&lt;00:00, 1.67kB/s]"
          }
        },
        "9cce727f85514817b6fb857d79a49d33": {
          "model_module": "@jupyter-widgets/base",
          "model_name": "LayoutModel",
          "model_module_version": "1.2.0",
          "state": {
            "_model_module": "@jupyter-widgets/base",
            "_model_module_version": "1.2.0",
            "_model_name": "LayoutModel",
            "_view_count": null,
            "_view_module": "@jupyter-widgets/base",
            "_view_module_version": "1.2.0",
            "_view_name": "LayoutView",
            "align_content": null,
            "align_items": null,
            "align_self": null,
            "border": null,
            "bottom": null,
            "display": null,
            "flex": null,
            "flex_flow": null,
            "grid_area": null,
            "grid_auto_columns": null,
            "grid_auto_flow": null,
            "grid_auto_rows": null,
            "grid_column": null,
            "grid_gap": null,
            "grid_row": null,
            "grid_template_areas": null,
            "grid_template_columns": null,
            "grid_template_rows": null,
            "height": null,
            "justify_content": null,
            "justify_items": null,
            "left": null,
            "margin": null,
            "max_height": null,
            "max_width": null,
            "min_height": null,
            "min_width": null,
            "object_fit": null,
            "object_position": null,
            "order": null,
            "overflow": null,
            "overflow_x": null,
            "overflow_y": null,
            "padding": null,
            "right": null,
            "top": null,
            "visibility": null,
            "width": null
          }
        },
        "9a8c32b12c1b44f3b1599bb5f899e1c1": {
          "model_module": "@jupyter-widgets/base",
          "model_name": "LayoutModel",
          "model_module_version": "1.2.0",
          "state": {
            "_model_module": "@jupyter-widgets/base",
            "_model_module_version": "1.2.0",
            "_model_name": "LayoutModel",
            "_view_count": null,
            "_view_module": "@jupyter-widgets/base",
            "_view_module_version": "1.2.0",
            "_view_name": "LayoutView",
            "align_content": null,
            "align_items": null,
            "align_self": null,
            "border": null,
            "bottom": null,
            "display": null,
            "flex": null,
            "flex_flow": null,
            "grid_area": null,
            "grid_auto_columns": null,
            "grid_auto_flow": null,
            "grid_auto_rows": null,
            "grid_column": null,
            "grid_gap": null,
            "grid_row": null,
            "grid_template_areas": null,
            "grid_template_columns": null,
            "grid_template_rows": null,
            "height": null,
            "justify_content": null,
            "justify_items": null,
            "left": null,
            "margin": null,
            "max_height": null,
            "max_width": null,
            "min_height": null,
            "min_width": null,
            "object_fit": null,
            "object_position": null,
            "order": null,
            "overflow": null,
            "overflow_x": null,
            "overflow_y": null,
            "padding": null,
            "right": null,
            "top": null,
            "visibility": null,
            "width": null
          }
        },
        "1326a965cfb349228d93b4b912c7ef97": {
          "model_module": "@jupyter-widgets/controls",
          "model_name": "DescriptionStyleModel",
          "model_module_version": "1.5.0",
          "state": {
            "_model_module": "@jupyter-widgets/controls",
            "_model_module_version": "1.5.0",
            "_model_name": "DescriptionStyleModel",
            "_view_count": null,
            "_view_module": "@jupyter-widgets/base",
            "_view_module_version": "1.2.0",
            "_view_name": "StyleView",
            "description_width": ""
          }
        },
        "090a915c74674c2cafed62264fff9a87": {
          "model_module": "@jupyter-widgets/base",
          "model_name": "LayoutModel",
          "model_module_version": "1.2.0",
          "state": {
            "_model_module": "@jupyter-widgets/base",
            "_model_module_version": "1.2.0",
            "_model_name": "LayoutModel",
            "_view_count": null,
            "_view_module": "@jupyter-widgets/base",
            "_view_module_version": "1.2.0",
            "_view_name": "LayoutView",
            "align_content": null,
            "align_items": null,
            "align_self": null,
            "border": null,
            "bottom": null,
            "display": null,
            "flex": null,
            "flex_flow": null,
            "grid_area": null,
            "grid_auto_columns": null,
            "grid_auto_flow": null,
            "grid_auto_rows": null,
            "grid_column": null,
            "grid_gap": null,
            "grid_row": null,
            "grid_template_areas": null,
            "grid_template_columns": null,
            "grid_template_rows": null,
            "height": null,
            "justify_content": null,
            "justify_items": null,
            "left": null,
            "margin": null,
            "max_height": null,
            "max_width": null,
            "min_height": null,
            "min_width": null,
            "object_fit": null,
            "object_position": null,
            "order": null,
            "overflow": null,
            "overflow_x": null,
            "overflow_y": null,
            "padding": null,
            "right": null,
            "top": null,
            "visibility": null,
            "width": null
          }
        },
        "1a40159f4d2049bd9f525c94b7754d2b": {
          "model_module": "@jupyter-widgets/controls",
          "model_name": "ProgressStyleModel",
          "model_module_version": "1.5.0",
          "state": {
            "_model_module": "@jupyter-widgets/controls",
            "_model_module_version": "1.5.0",
            "_model_name": "ProgressStyleModel",
            "_view_count": null,
            "_view_module": "@jupyter-widgets/base",
            "_view_module_version": "1.2.0",
            "_view_name": "StyleView",
            "bar_color": null,
            "description_width": ""
          }
        },
        "95565ae1b2ad4a648bc07c59d296384f": {
          "model_module": "@jupyter-widgets/base",
          "model_name": "LayoutModel",
          "model_module_version": "1.2.0",
          "state": {
            "_model_module": "@jupyter-widgets/base",
            "_model_module_version": "1.2.0",
            "_model_name": "LayoutModel",
            "_view_count": null,
            "_view_module": "@jupyter-widgets/base",
            "_view_module_version": "1.2.0",
            "_view_name": "LayoutView",
            "align_content": null,
            "align_items": null,
            "align_self": null,
            "border": null,
            "bottom": null,
            "display": null,
            "flex": null,
            "flex_flow": null,
            "grid_area": null,
            "grid_auto_columns": null,
            "grid_auto_flow": null,
            "grid_auto_rows": null,
            "grid_column": null,
            "grid_gap": null,
            "grid_row": null,
            "grid_template_areas": null,
            "grid_template_columns": null,
            "grid_template_rows": null,
            "height": null,
            "justify_content": null,
            "justify_items": null,
            "left": null,
            "margin": null,
            "max_height": null,
            "max_width": null,
            "min_height": null,
            "min_width": null,
            "object_fit": null,
            "object_position": null,
            "order": null,
            "overflow": null,
            "overflow_x": null,
            "overflow_y": null,
            "padding": null,
            "right": null,
            "top": null,
            "visibility": null,
            "width": null
          }
        },
        "f9989d0aff6c4793ad9180abd324e35f": {
          "model_module": "@jupyter-widgets/controls",
          "model_name": "DescriptionStyleModel",
          "model_module_version": "1.5.0",
          "state": {
            "_model_module": "@jupyter-widgets/controls",
            "_model_module_version": "1.5.0",
            "_model_name": "DescriptionStyleModel",
            "_view_count": null,
            "_view_module": "@jupyter-widgets/base",
            "_view_module_version": "1.2.0",
            "_view_name": "StyleView",
            "description_width": ""
          }
        },
        "193a19c4501b441fa75b1534e7e30e54": {
          "model_module": "@jupyter-widgets/controls",
          "model_name": "HBoxModel",
          "model_module_version": "1.5.0",
          "state": {
            "_dom_classes": [],
            "_model_module": "@jupyter-widgets/controls",
            "_model_module_version": "1.5.0",
            "_model_name": "HBoxModel",
            "_view_count": null,
            "_view_module": "@jupyter-widgets/controls",
            "_view_module_version": "1.5.0",
            "_view_name": "HBoxView",
            "box_style": "",
            "children": [
              "IPY_MODEL_2db1ceacbbda4a5c8a320819483c6616",
              "IPY_MODEL_d65ca194d8ba4b828260ff2edd56ac27",
              "IPY_MODEL_e836c6d3b701440ea85ee6af87f7d4e1"
            ],
            "layout": "IPY_MODEL_e608aadec08441dfaf103bcb88cdef95"
          }
        },
        "2db1ceacbbda4a5c8a320819483c6616": {
          "model_module": "@jupyter-widgets/controls",
          "model_name": "HTMLModel",
          "model_module_version": "1.5.0",
          "state": {
            "_dom_classes": [],
            "_model_module": "@jupyter-widgets/controls",
            "_model_module_version": "1.5.0",
            "_model_name": "HTMLModel",
            "_view_count": null,
            "_view_module": "@jupyter-widgets/controls",
            "_view_module_version": "1.5.0",
            "_view_name": "HTMLView",
            "description": "",
            "description_tooltip": null,
            "layout": "IPY_MODEL_83a521849734427988545984a146ab56",
            "placeholder": "​",
            "style": "IPY_MODEL_d36f1889b8234a419de43fca08fa6f16",
            "value": "config.json: 100%"
          }
        },
        "d65ca194d8ba4b828260ff2edd56ac27": {
          "model_module": "@jupyter-widgets/controls",
          "model_name": "FloatProgressModel",
          "model_module_version": "1.5.0",
          "state": {
            "_dom_classes": [],
            "_model_module": "@jupyter-widgets/controls",
            "_model_module_version": "1.5.0",
            "_model_name": "FloatProgressModel",
            "_view_count": null,
            "_view_module": "@jupyter-widgets/controls",
            "_view_module_version": "1.5.0",
            "_view_name": "ProgressView",
            "bar_style": "success",
            "description": "",
            "description_tooltip": null,
            "layout": "IPY_MODEL_deee437291c64a40899eb82d8b18e9d1",
            "max": 570,
            "min": 0,
            "orientation": "horizontal",
            "style": "IPY_MODEL_b82030764f32467fb71038d69dce010a",
            "value": 570
          }
        },
        "e836c6d3b701440ea85ee6af87f7d4e1": {
          "model_module": "@jupyter-widgets/controls",
          "model_name": "HTMLModel",
          "model_module_version": "1.5.0",
          "state": {
            "_dom_classes": [],
            "_model_module": "@jupyter-widgets/controls",
            "_model_module_version": "1.5.0",
            "_model_name": "HTMLModel",
            "_view_count": null,
            "_view_module": "@jupyter-widgets/controls",
            "_view_module_version": "1.5.0",
            "_view_name": "HTMLView",
            "description": "",
            "description_tooltip": null,
            "layout": "IPY_MODEL_410ae90353cf46a1b856ed35e85be9ef",
            "placeholder": "​",
            "style": "IPY_MODEL_b3d1219259274f80ad86a8e80aae4ad0",
            "value": " 570/570 [00:00&lt;00:00, 32.6kB/s]"
          }
        },
        "e608aadec08441dfaf103bcb88cdef95": {
          "model_module": "@jupyter-widgets/base",
          "model_name": "LayoutModel",
          "model_module_version": "1.2.0",
          "state": {
            "_model_module": "@jupyter-widgets/base",
            "_model_module_version": "1.2.0",
            "_model_name": "LayoutModel",
            "_view_count": null,
            "_view_module": "@jupyter-widgets/base",
            "_view_module_version": "1.2.0",
            "_view_name": "LayoutView",
            "align_content": null,
            "align_items": null,
            "align_self": null,
            "border": null,
            "bottom": null,
            "display": null,
            "flex": null,
            "flex_flow": null,
            "grid_area": null,
            "grid_auto_columns": null,
            "grid_auto_flow": null,
            "grid_auto_rows": null,
            "grid_column": null,
            "grid_gap": null,
            "grid_row": null,
            "grid_template_areas": null,
            "grid_template_columns": null,
            "grid_template_rows": null,
            "height": null,
            "justify_content": null,
            "justify_items": null,
            "left": null,
            "margin": null,
            "max_height": null,
            "max_width": null,
            "min_height": null,
            "min_width": null,
            "object_fit": null,
            "object_position": null,
            "order": null,
            "overflow": null,
            "overflow_x": null,
            "overflow_y": null,
            "padding": null,
            "right": null,
            "top": null,
            "visibility": null,
            "width": null
          }
        },
        "83a521849734427988545984a146ab56": {
          "model_module": "@jupyter-widgets/base",
          "model_name": "LayoutModel",
          "model_module_version": "1.2.0",
          "state": {
            "_model_module": "@jupyter-widgets/base",
            "_model_module_version": "1.2.0",
            "_model_name": "LayoutModel",
            "_view_count": null,
            "_view_module": "@jupyter-widgets/base",
            "_view_module_version": "1.2.0",
            "_view_name": "LayoutView",
            "align_content": null,
            "align_items": null,
            "align_self": null,
            "border": null,
            "bottom": null,
            "display": null,
            "flex": null,
            "flex_flow": null,
            "grid_area": null,
            "grid_auto_columns": null,
            "grid_auto_flow": null,
            "grid_auto_rows": null,
            "grid_column": null,
            "grid_gap": null,
            "grid_row": null,
            "grid_template_areas": null,
            "grid_template_columns": null,
            "grid_template_rows": null,
            "height": null,
            "justify_content": null,
            "justify_items": null,
            "left": null,
            "margin": null,
            "max_height": null,
            "max_width": null,
            "min_height": null,
            "min_width": null,
            "object_fit": null,
            "object_position": null,
            "order": null,
            "overflow": null,
            "overflow_x": null,
            "overflow_y": null,
            "padding": null,
            "right": null,
            "top": null,
            "visibility": null,
            "width": null
          }
        },
        "d36f1889b8234a419de43fca08fa6f16": {
          "model_module": "@jupyter-widgets/controls",
          "model_name": "DescriptionStyleModel",
          "model_module_version": "1.5.0",
          "state": {
            "_model_module": "@jupyter-widgets/controls",
            "_model_module_version": "1.5.0",
            "_model_name": "DescriptionStyleModel",
            "_view_count": null,
            "_view_module": "@jupyter-widgets/base",
            "_view_module_version": "1.2.0",
            "_view_name": "StyleView",
            "description_width": ""
          }
        },
        "deee437291c64a40899eb82d8b18e9d1": {
          "model_module": "@jupyter-widgets/base",
          "model_name": "LayoutModel",
          "model_module_version": "1.2.0",
          "state": {
            "_model_module": "@jupyter-widgets/base",
            "_model_module_version": "1.2.0",
            "_model_name": "LayoutModel",
            "_view_count": null,
            "_view_module": "@jupyter-widgets/base",
            "_view_module_version": "1.2.0",
            "_view_name": "LayoutView",
            "align_content": null,
            "align_items": null,
            "align_self": null,
            "border": null,
            "bottom": null,
            "display": null,
            "flex": null,
            "flex_flow": null,
            "grid_area": null,
            "grid_auto_columns": null,
            "grid_auto_flow": null,
            "grid_auto_rows": null,
            "grid_column": null,
            "grid_gap": null,
            "grid_row": null,
            "grid_template_areas": null,
            "grid_template_columns": null,
            "grid_template_rows": null,
            "height": null,
            "justify_content": null,
            "justify_items": null,
            "left": null,
            "margin": null,
            "max_height": null,
            "max_width": null,
            "min_height": null,
            "min_width": null,
            "object_fit": null,
            "object_position": null,
            "order": null,
            "overflow": null,
            "overflow_x": null,
            "overflow_y": null,
            "padding": null,
            "right": null,
            "top": null,
            "visibility": null,
            "width": null
          }
        },
        "b82030764f32467fb71038d69dce010a": {
          "model_module": "@jupyter-widgets/controls",
          "model_name": "ProgressStyleModel",
          "model_module_version": "1.5.0",
          "state": {
            "_model_module": "@jupyter-widgets/controls",
            "_model_module_version": "1.5.0",
            "_model_name": "ProgressStyleModel",
            "_view_count": null,
            "_view_module": "@jupyter-widgets/base",
            "_view_module_version": "1.2.0",
            "_view_name": "StyleView",
            "bar_color": null,
            "description_width": ""
          }
        },
        "410ae90353cf46a1b856ed35e85be9ef": {
          "model_module": "@jupyter-widgets/base",
          "model_name": "LayoutModel",
          "model_module_version": "1.2.0",
          "state": {
            "_model_module": "@jupyter-widgets/base",
            "_model_module_version": "1.2.0",
            "_model_name": "LayoutModel",
            "_view_count": null,
            "_view_module": "@jupyter-widgets/base",
            "_view_module_version": "1.2.0",
            "_view_name": "LayoutView",
            "align_content": null,
            "align_items": null,
            "align_self": null,
            "border": null,
            "bottom": null,
            "display": null,
            "flex": null,
            "flex_flow": null,
            "grid_area": null,
            "grid_auto_columns": null,
            "grid_auto_flow": null,
            "grid_auto_rows": null,
            "grid_column": null,
            "grid_gap": null,
            "grid_row": null,
            "grid_template_areas": null,
            "grid_template_columns": null,
            "grid_template_rows": null,
            "height": null,
            "justify_content": null,
            "justify_items": null,
            "left": null,
            "margin": null,
            "max_height": null,
            "max_width": null,
            "min_height": null,
            "min_width": null,
            "object_fit": null,
            "object_position": null,
            "order": null,
            "overflow": null,
            "overflow_x": null,
            "overflow_y": null,
            "padding": null,
            "right": null,
            "top": null,
            "visibility": null,
            "width": null
          }
        },
        "b3d1219259274f80ad86a8e80aae4ad0": {
          "model_module": "@jupyter-widgets/controls",
          "model_name": "DescriptionStyleModel",
          "model_module_version": "1.5.0",
          "state": {
            "_model_module": "@jupyter-widgets/controls",
            "_model_module_version": "1.5.0",
            "_model_name": "DescriptionStyleModel",
            "_view_count": null,
            "_view_module": "@jupyter-widgets/base",
            "_view_module_version": "1.2.0",
            "_view_name": "StyleView",
            "description_width": ""
          }
        },
        "65f6ea97347f481d84bf9e47d7794713": {
          "model_module": "@jupyter-widgets/controls",
          "model_name": "HBoxModel",
          "model_module_version": "1.5.0",
          "state": {
            "_dom_classes": [],
            "_model_module": "@jupyter-widgets/controls",
            "_model_module_version": "1.5.0",
            "_model_name": "HBoxModel",
            "_view_count": null,
            "_view_module": "@jupyter-widgets/controls",
            "_view_module_version": "1.5.0",
            "_view_name": "HBoxView",
            "box_style": "",
            "children": [
              "IPY_MODEL_c6376f9d77f749c28a3134e7619d2101",
              "IPY_MODEL_d7cb1954edab4a24b3f16c488c7a96cd",
              "IPY_MODEL_923ba84d3cfd42de9a42af92d5c8f4d9"
            ],
            "layout": "IPY_MODEL_209d1745d8cb485fa21b3014e8ebf052"
          }
        },
        "c6376f9d77f749c28a3134e7619d2101": {
          "model_module": "@jupyter-widgets/controls",
          "model_name": "HTMLModel",
          "model_module_version": "1.5.0",
          "state": {
            "_dom_classes": [],
            "_model_module": "@jupyter-widgets/controls",
            "_model_module_version": "1.5.0",
            "_model_name": "HTMLModel",
            "_view_count": null,
            "_view_module": "@jupyter-widgets/controls",
            "_view_module_version": "1.5.0",
            "_view_name": "HTMLView",
            "description": "",
            "description_tooltip": null,
            "layout": "IPY_MODEL_24dfbc7157414290ab9258ca64d96c1d",
            "placeholder": "​",
            "style": "IPY_MODEL_232775ea22d54276a3a217ce8df313e9",
            "value": "vocab.txt: 100%"
          }
        },
        "d7cb1954edab4a24b3f16c488c7a96cd": {
          "model_module": "@jupyter-widgets/controls",
          "model_name": "FloatProgressModel",
          "model_module_version": "1.5.0",
          "state": {
            "_dom_classes": [],
            "_model_module": "@jupyter-widgets/controls",
            "_model_module_version": "1.5.0",
            "_model_name": "FloatProgressModel",
            "_view_count": null,
            "_view_module": "@jupyter-widgets/controls",
            "_view_module_version": "1.5.0",
            "_view_name": "ProgressView",
            "bar_style": "success",
            "description": "",
            "description_tooltip": null,
            "layout": "IPY_MODEL_d6bd251317454ddc832bd3adb1d06e85",
            "max": 231508,
            "min": 0,
            "orientation": "horizontal",
            "style": "IPY_MODEL_9f9d4d24373741e68e6b658b8faef498",
            "value": 231508
          }
        },
        "923ba84d3cfd42de9a42af92d5c8f4d9": {
          "model_module": "@jupyter-widgets/controls",
          "model_name": "HTMLModel",
          "model_module_version": "1.5.0",
          "state": {
            "_dom_classes": [],
            "_model_module": "@jupyter-widgets/controls",
            "_model_module_version": "1.5.0",
            "_model_name": "HTMLModel",
            "_view_count": null,
            "_view_module": "@jupyter-widgets/controls",
            "_view_module_version": "1.5.0",
            "_view_name": "HTMLView",
            "description": "",
            "description_tooltip": null,
            "layout": "IPY_MODEL_bb93a33c828b42a19904ecd05bae71f9",
            "placeholder": "​",
            "style": "IPY_MODEL_531bcd3767a34d5fa8c9459b28ace480",
            "value": " 232k/232k [00:00&lt;00:00, 991kB/s]"
          }
        },
        "209d1745d8cb485fa21b3014e8ebf052": {
          "model_module": "@jupyter-widgets/base",
          "model_name": "LayoutModel",
          "model_module_version": "1.2.0",
          "state": {
            "_model_module": "@jupyter-widgets/base",
            "_model_module_version": "1.2.0",
            "_model_name": "LayoutModel",
            "_view_count": null,
            "_view_module": "@jupyter-widgets/base",
            "_view_module_version": "1.2.0",
            "_view_name": "LayoutView",
            "align_content": null,
            "align_items": null,
            "align_self": null,
            "border": null,
            "bottom": null,
            "display": null,
            "flex": null,
            "flex_flow": null,
            "grid_area": null,
            "grid_auto_columns": null,
            "grid_auto_flow": null,
            "grid_auto_rows": null,
            "grid_column": null,
            "grid_gap": null,
            "grid_row": null,
            "grid_template_areas": null,
            "grid_template_columns": null,
            "grid_template_rows": null,
            "height": null,
            "justify_content": null,
            "justify_items": null,
            "left": null,
            "margin": null,
            "max_height": null,
            "max_width": null,
            "min_height": null,
            "min_width": null,
            "object_fit": null,
            "object_position": null,
            "order": null,
            "overflow": null,
            "overflow_x": null,
            "overflow_y": null,
            "padding": null,
            "right": null,
            "top": null,
            "visibility": null,
            "width": null
          }
        },
        "24dfbc7157414290ab9258ca64d96c1d": {
          "model_module": "@jupyter-widgets/base",
          "model_name": "LayoutModel",
          "model_module_version": "1.2.0",
          "state": {
            "_model_module": "@jupyter-widgets/base",
            "_model_module_version": "1.2.0",
            "_model_name": "LayoutModel",
            "_view_count": null,
            "_view_module": "@jupyter-widgets/base",
            "_view_module_version": "1.2.0",
            "_view_name": "LayoutView",
            "align_content": null,
            "align_items": null,
            "align_self": null,
            "border": null,
            "bottom": null,
            "display": null,
            "flex": null,
            "flex_flow": null,
            "grid_area": null,
            "grid_auto_columns": null,
            "grid_auto_flow": null,
            "grid_auto_rows": null,
            "grid_column": null,
            "grid_gap": null,
            "grid_row": null,
            "grid_template_areas": null,
            "grid_template_columns": null,
            "grid_template_rows": null,
            "height": null,
            "justify_content": null,
            "justify_items": null,
            "left": null,
            "margin": null,
            "max_height": null,
            "max_width": null,
            "min_height": null,
            "min_width": null,
            "object_fit": null,
            "object_position": null,
            "order": null,
            "overflow": null,
            "overflow_x": null,
            "overflow_y": null,
            "padding": null,
            "right": null,
            "top": null,
            "visibility": null,
            "width": null
          }
        },
        "232775ea22d54276a3a217ce8df313e9": {
          "model_module": "@jupyter-widgets/controls",
          "model_name": "DescriptionStyleModel",
          "model_module_version": "1.5.0",
          "state": {
            "_model_module": "@jupyter-widgets/controls",
            "_model_module_version": "1.5.0",
            "_model_name": "DescriptionStyleModel",
            "_view_count": null,
            "_view_module": "@jupyter-widgets/base",
            "_view_module_version": "1.2.0",
            "_view_name": "StyleView",
            "description_width": ""
          }
        },
        "d6bd251317454ddc832bd3adb1d06e85": {
          "model_module": "@jupyter-widgets/base",
          "model_name": "LayoutModel",
          "model_module_version": "1.2.0",
          "state": {
            "_model_module": "@jupyter-widgets/base",
            "_model_module_version": "1.2.0",
            "_model_name": "LayoutModel",
            "_view_count": null,
            "_view_module": "@jupyter-widgets/base",
            "_view_module_version": "1.2.0",
            "_view_name": "LayoutView",
            "align_content": null,
            "align_items": null,
            "align_self": null,
            "border": null,
            "bottom": null,
            "display": null,
            "flex": null,
            "flex_flow": null,
            "grid_area": null,
            "grid_auto_columns": null,
            "grid_auto_flow": null,
            "grid_auto_rows": null,
            "grid_column": null,
            "grid_gap": null,
            "grid_row": null,
            "grid_template_areas": null,
            "grid_template_columns": null,
            "grid_template_rows": null,
            "height": null,
            "justify_content": null,
            "justify_items": null,
            "left": null,
            "margin": null,
            "max_height": null,
            "max_width": null,
            "min_height": null,
            "min_width": null,
            "object_fit": null,
            "object_position": null,
            "order": null,
            "overflow": null,
            "overflow_x": null,
            "overflow_y": null,
            "padding": null,
            "right": null,
            "top": null,
            "visibility": null,
            "width": null
          }
        },
        "9f9d4d24373741e68e6b658b8faef498": {
          "model_module": "@jupyter-widgets/controls",
          "model_name": "ProgressStyleModel",
          "model_module_version": "1.5.0",
          "state": {
            "_model_module": "@jupyter-widgets/controls",
            "_model_module_version": "1.5.0",
            "_model_name": "ProgressStyleModel",
            "_view_count": null,
            "_view_module": "@jupyter-widgets/base",
            "_view_module_version": "1.2.0",
            "_view_name": "StyleView",
            "bar_color": null,
            "description_width": ""
          }
        },
        "bb93a33c828b42a19904ecd05bae71f9": {
          "model_module": "@jupyter-widgets/base",
          "model_name": "LayoutModel",
          "model_module_version": "1.2.0",
          "state": {
            "_model_module": "@jupyter-widgets/base",
            "_model_module_version": "1.2.0",
            "_model_name": "LayoutModel",
            "_view_count": null,
            "_view_module": "@jupyter-widgets/base",
            "_view_module_version": "1.2.0",
            "_view_name": "LayoutView",
            "align_content": null,
            "align_items": null,
            "align_self": null,
            "border": null,
            "bottom": null,
            "display": null,
            "flex": null,
            "flex_flow": null,
            "grid_area": null,
            "grid_auto_columns": null,
            "grid_auto_flow": null,
            "grid_auto_rows": null,
            "grid_column": null,
            "grid_gap": null,
            "grid_row": null,
            "grid_template_areas": null,
            "grid_template_columns": null,
            "grid_template_rows": null,
            "height": null,
            "justify_content": null,
            "justify_items": null,
            "left": null,
            "margin": null,
            "max_height": null,
            "max_width": null,
            "min_height": null,
            "min_width": null,
            "object_fit": null,
            "object_position": null,
            "order": null,
            "overflow": null,
            "overflow_x": null,
            "overflow_y": null,
            "padding": null,
            "right": null,
            "top": null,
            "visibility": null,
            "width": null
          }
        },
        "531bcd3767a34d5fa8c9459b28ace480": {
          "model_module": "@jupyter-widgets/controls",
          "model_name": "DescriptionStyleModel",
          "model_module_version": "1.5.0",
          "state": {
            "_model_module": "@jupyter-widgets/controls",
            "_model_module_version": "1.5.0",
            "_model_name": "DescriptionStyleModel",
            "_view_count": null,
            "_view_module": "@jupyter-widgets/base",
            "_view_module_version": "1.2.0",
            "_view_name": "StyleView",
            "description_width": ""
          }
        },
        "e20d13a437d74b07b24c423deafa6c34": {
          "model_module": "@jupyter-widgets/controls",
          "model_name": "HBoxModel",
          "model_module_version": "1.5.0",
          "state": {
            "_dom_classes": [],
            "_model_module": "@jupyter-widgets/controls",
            "_model_module_version": "1.5.0",
            "_model_name": "HBoxModel",
            "_view_count": null,
            "_view_module": "@jupyter-widgets/controls",
            "_view_module_version": "1.5.0",
            "_view_name": "HBoxView",
            "box_style": "",
            "children": [
              "IPY_MODEL_b18c150ba4194d5fa93b74903c2dd3a5",
              "IPY_MODEL_cd9543b2e33e47859a7e4a2b0f8cd040",
              "IPY_MODEL_cfaeec5514ef421f8430deabb2b25444"
            ],
            "layout": "IPY_MODEL_40d9a4477385479898d572722c105670"
          }
        },
        "b18c150ba4194d5fa93b74903c2dd3a5": {
          "model_module": "@jupyter-widgets/controls",
          "model_name": "HTMLModel",
          "model_module_version": "1.5.0",
          "state": {
            "_dom_classes": [],
            "_model_module": "@jupyter-widgets/controls",
            "_model_module_version": "1.5.0",
            "_model_name": "HTMLModel",
            "_view_count": null,
            "_view_module": "@jupyter-widgets/controls",
            "_view_module_version": "1.5.0",
            "_view_name": "HTMLView",
            "description": "",
            "description_tooltip": null,
            "layout": "IPY_MODEL_624a0d333ade41bbb77af919cb726618",
            "placeholder": "​",
            "style": "IPY_MODEL_06c18be163da4cf1ba35e25d00397fa5",
            "value": "tokenizer.json: 100%"
          }
        },
        "cd9543b2e33e47859a7e4a2b0f8cd040": {
          "model_module": "@jupyter-widgets/controls",
          "model_name": "FloatProgressModel",
          "model_module_version": "1.5.0",
          "state": {
            "_dom_classes": [],
            "_model_module": "@jupyter-widgets/controls",
            "_model_module_version": "1.5.0",
            "_model_name": "FloatProgressModel",
            "_view_count": null,
            "_view_module": "@jupyter-widgets/controls",
            "_view_module_version": "1.5.0",
            "_view_name": "ProgressView",
            "bar_style": "success",
            "description": "",
            "description_tooltip": null,
            "layout": "IPY_MODEL_525d1e803a654ea9ac8d1753dee9c07e",
            "max": 466062,
            "min": 0,
            "orientation": "horizontal",
            "style": "IPY_MODEL_83227345cc404ef8b1c91d8e075707ae",
            "value": 466062
          }
        },
        "cfaeec5514ef421f8430deabb2b25444": {
          "model_module": "@jupyter-widgets/controls",
          "model_name": "HTMLModel",
          "model_module_version": "1.5.0",
          "state": {
            "_dom_classes": [],
            "_model_module": "@jupyter-widgets/controls",
            "_model_module_version": "1.5.0",
            "_model_name": "HTMLModel",
            "_view_count": null,
            "_view_module": "@jupyter-widgets/controls",
            "_view_module_version": "1.5.0",
            "_view_name": "HTMLView",
            "description": "",
            "description_tooltip": null,
            "layout": "IPY_MODEL_f754af98b87644c08e950ef1e0df1c84",
            "placeholder": "​",
            "style": "IPY_MODEL_1b20900f2d7944b7909aa7b1f680fcc2",
            "value": " 466k/466k [00:00&lt;00:00, 3.75MB/s]"
          }
        },
        "40d9a4477385479898d572722c105670": {
          "model_module": "@jupyter-widgets/base",
          "model_name": "LayoutModel",
          "model_module_version": "1.2.0",
          "state": {
            "_model_module": "@jupyter-widgets/base",
            "_model_module_version": "1.2.0",
            "_model_name": "LayoutModel",
            "_view_count": null,
            "_view_module": "@jupyter-widgets/base",
            "_view_module_version": "1.2.0",
            "_view_name": "LayoutView",
            "align_content": null,
            "align_items": null,
            "align_self": null,
            "border": null,
            "bottom": null,
            "display": null,
            "flex": null,
            "flex_flow": null,
            "grid_area": null,
            "grid_auto_columns": null,
            "grid_auto_flow": null,
            "grid_auto_rows": null,
            "grid_column": null,
            "grid_gap": null,
            "grid_row": null,
            "grid_template_areas": null,
            "grid_template_columns": null,
            "grid_template_rows": null,
            "height": null,
            "justify_content": null,
            "justify_items": null,
            "left": null,
            "margin": null,
            "max_height": null,
            "max_width": null,
            "min_height": null,
            "min_width": null,
            "object_fit": null,
            "object_position": null,
            "order": null,
            "overflow": null,
            "overflow_x": null,
            "overflow_y": null,
            "padding": null,
            "right": null,
            "top": null,
            "visibility": null,
            "width": null
          }
        },
        "624a0d333ade41bbb77af919cb726618": {
          "model_module": "@jupyter-widgets/base",
          "model_name": "LayoutModel",
          "model_module_version": "1.2.0",
          "state": {
            "_model_module": "@jupyter-widgets/base",
            "_model_module_version": "1.2.0",
            "_model_name": "LayoutModel",
            "_view_count": null,
            "_view_module": "@jupyter-widgets/base",
            "_view_module_version": "1.2.0",
            "_view_name": "LayoutView",
            "align_content": null,
            "align_items": null,
            "align_self": null,
            "border": null,
            "bottom": null,
            "display": null,
            "flex": null,
            "flex_flow": null,
            "grid_area": null,
            "grid_auto_columns": null,
            "grid_auto_flow": null,
            "grid_auto_rows": null,
            "grid_column": null,
            "grid_gap": null,
            "grid_row": null,
            "grid_template_areas": null,
            "grid_template_columns": null,
            "grid_template_rows": null,
            "height": null,
            "justify_content": null,
            "justify_items": null,
            "left": null,
            "margin": null,
            "max_height": null,
            "max_width": null,
            "min_height": null,
            "min_width": null,
            "object_fit": null,
            "object_position": null,
            "order": null,
            "overflow": null,
            "overflow_x": null,
            "overflow_y": null,
            "padding": null,
            "right": null,
            "top": null,
            "visibility": null,
            "width": null
          }
        },
        "06c18be163da4cf1ba35e25d00397fa5": {
          "model_module": "@jupyter-widgets/controls",
          "model_name": "DescriptionStyleModel",
          "model_module_version": "1.5.0",
          "state": {
            "_model_module": "@jupyter-widgets/controls",
            "_model_module_version": "1.5.0",
            "_model_name": "DescriptionStyleModel",
            "_view_count": null,
            "_view_module": "@jupyter-widgets/base",
            "_view_module_version": "1.2.0",
            "_view_name": "StyleView",
            "description_width": ""
          }
        },
        "525d1e803a654ea9ac8d1753dee9c07e": {
          "model_module": "@jupyter-widgets/base",
          "model_name": "LayoutModel",
          "model_module_version": "1.2.0",
          "state": {
            "_model_module": "@jupyter-widgets/base",
            "_model_module_version": "1.2.0",
            "_model_name": "LayoutModel",
            "_view_count": null,
            "_view_module": "@jupyter-widgets/base",
            "_view_module_version": "1.2.0",
            "_view_name": "LayoutView",
            "align_content": null,
            "align_items": null,
            "align_self": null,
            "border": null,
            "bottom": null,
            "display": null,
            "flex": null,
            "flex_flow": null,
            "grid_area": null,
            "grid_auto_columns": null,
            "grid_auto_flow": null,
            "grid_auto_rows": null,
            "grid_column": null,
            "grid_gap": null,
            "grid_row": null,
            "grid_template_areas": null,
            "grid_template_columns": null,
            "grid_template_rows": null,
            "height": null,
            "justify_content": null,
            "justify_items": null,
            "left": null,
            "margin": null,
            "max_height": null,
            "max_width": null,
            "min_height": null,
            "min_width": null,
            "object_fit": null,
            "object_position": null,
            "order": null,
            "overflow": null,
            "overflow_x": null,
            "overflow_y": null,
            "padding": null,
            "right": null,
            "top": null,
            "visibility": null,
            "width": null
          }
        },
        "83227345cc404ef8b1c91d8e075707ae": {
          "model_module": "@jupyter-widgets/controls",
          "model_name": "ProgressStyleModel",
          "model_module_version": "1.5.0",
          "state": {
            "_model_module": "@jupyter-widgets/controls",
            "_model_module_version": "1.5.0",
            "_model_name": "ProgressStyleModel",
            "_view_count": null,
            "_view_module": "@jupyter-widgets/base",
            "_view_module_version": "1.2.0",
            "_view_name": "StyleView",
            "bar_color": null,
            "description_width": ""
          }
        },
        "f754af98b87644c08e950ef1e0df1c84": {
          "model_module": "@jupyter-widgets/base",
          "model_name": "LayoutModel",
          "model_module_version": "1.2.0",
          "state": {
            "_model_module": "@jupyter-widgets/base",
            "_model_module_version": "1.2.0",
            "_model_name": "LayoutModel",
            "_view_count": null,
            "_view_module": "@jupyter-widgets/base",
            "_view_module_version": "1.2.0",
            "_view_name": "LayoutView",
            "align_content": null,
            "align_items": null,
            "align_self": null,
            "border": null,
            "bottom": null,
            "display": null,
            "flex": null,
            "flex_flow": null,
            "grid_area": null,
            "grid_auto_columns": null,
            "grid_auto_flow": null,
            "grid_auto_rows": null,
            "grid_column": null,
            "grid_gap": null,
            "grid_row": null,
            "grid_template_areas": null,
            "grid_template_columns": null,
            "grid_template_rows": null,
            "height": null,
            "justify_content": null,
            "justify_items": null,
            "left": null,
            "margin": null,
            "max_height": null,
            "max_width": null,
            "min_height": null,
            "min_width": null,
            "object_fit": null,
            "object_position": null,
            "order": null,
            "overflow": null,
            "overflow_x": null,
            "overflow_y": null,
            "padding": null,
            "right": null,
            "top": null,
            "visibility": null,
            "width": null
          }
        },
        "1b20900f2d7944b7909aa7b1f680fcc2": {
          "model_module": "@jupyter-widgets/controls",
          "model_name": "DescriptionStyleModel",
          "model_module_version": "1.5.0",
          "state": {
            "_model_module": "@jupyter-widgets/controls",
            "_model_module_version": "1.5.0",
            "_model_name": "DescriptionStyleModel",
            "_view_count": null,
            "_view_module": "@jupyter-widgets/base",
            "_view_module_version": "1.2.0",
            "_view_name": "StyleView",
            "description_width": ""
          }
        }
      }
    }
  },
  "cells": [
    {
      "cell_type": "markdown",
      "source": [
        "**Importing Libraries**"
      ],
      "metadata": {
        "id": "cKy-kUEKp-8F"
      }
    },
    {
      "cell_type": "code",
      "source": [
        "%%capture\n",
        "!pip install einops tqdm  transformers"
      ],
      "metadata": {
        "id": "fGTOh4GwhUli"
      },
      "execution_count": 1,
      "outputs": []
    },
    {
      "cell_type": "code",
      "execution_count": 2,
      "metadata": {
        "id": "NJXcTOxvTQ5u",
        "colab": {
          "base_uri": "https://localhost:8080/"
        },
        "outputId": "c23bd0be-983b-41cb-a59e-770cedae8ee3"
      },
      "outputs": [
        {
          "output_type": "execute_result",
          "data": {
            "text/plain": [
              "<torch.autograd.anomaly_mode.set_detect_anomaly at 0x7958040d6bf0>"
            ]
          },
          "metadata": {},
          "execution_count": 2
        }
      ],
      "source": [
        "import torch\n",
        "import torch.nn as nn\n",
        "import torch.optim as optim\n",
        "from torch.utils.data import DataLoader,Dataset\n",
        "from torch.nn import functional as F\n",
        "from einops import rearrange\n",
        "from tqdm import tqdm\n",
        "\n",
        "import math\n",
        "import os\n",
        "import urllib.request\n",
        "from zipfile import ZipFile\n",
        "\n",
        "from transformers import AutoTokenizer\n",
        "torch.autograd.set_detect_anomaly(True)"
      ]
    },
    {
      "cell_type": "markdown",
      "source": [
        "**HyperParams**"
      ],
      "metadata": {
        "id": "XPKzVyLSqDFL"
      }
    },
    {
      "cell_type": "code",
      "source": [
        "USE_MAMBA = 1\n",
        "DIFFERENT_H_STATES_RECURRENT_UPDATE_MECHANISM = 0\n",
        "\n",
        "device = torch.device('cuda' if torch.cuda.is_available() else 'cpu')"
      ],
      "metadata": {
        "id": "a6cYYd57qG4j"
      },
      "execution_count": 3,
      "outputs": []
    },
    {
      "cell_type": "code",
      "source": [
        "#User Defined hyperparams\n",
        "d_model = 8\n",
        "state_size = 128\n",
        "seq_len = 100\n",
        "batch_size = 256\n",
        "last_batch_size = 81 #only for very last batch of dataset\n",
        "current_batch_size  = batch_size\n",
        "different_batch_size = False\n",
        "h_new = None\n",
        "temp_buffer = None"
      ],
      "metadata": {
        "id": "Abbpw2GAqffj"
      },
      "execution_count": 4,
      "outputs": []
    },
    {
      "cell_type": "markdown",
      "source": [
        "Defining **S6 Module**"
      ],
      "metadata": {
        "id": "1EkYu3obrGxZ"
      }
    },
    {
      "cell_type": "code",
      "source": [
        "class S6(nn.Module):\n",
        "    def __init__(self, seq_len, d_model, state_size, device):\n",
        "        super(S6, self).__init__()\n",
        "\n",
        "        self.fc1 = nn.Linear(d_model, d_model, device=device)\n",
        "        self.fc2 = nn.Linear(d_model, state_size, device=device)\n",
        "        self.fc3 = nn.Linear(d_model, state_size, device=device)\n",
        "\n",
        "        self.seq_len = seq_len\n",
        "        self.d_model = d_model\n",
        "        self.state_size = state_size\n",
        "\n",
        "        #self.A = nn.Parameter(torch.ones(d_model, state_size, device=device))\n",
        "        self.A = nn.Parameter(F.normalize(torch.ones(d_model, state_size, device=device), p=2, dim=-1))\n",
        "        nn.init.xavier_uniform_(self.A)\n",
        "\n",
        "        self.B = torch.zeros(batch_size, self.seq_len, self.state_size, device=device)\n",
        "        self.C = torch.zeros(batch_size, self.seq_len, self.state_size, device=device)\n",
        "\n",
        "        self.delta = torch.zeros(batch_size, self.seq_len, self.d_model, device=device)\n",
        "        self.dA = torch.zeros(batch_size, self.seq_len, self.d_model, self.state_size, device=device)\n",
        "        self.dB = torch.zeros(batch_size, self.seq_len, self.d_model, self.state_size, device=device)\n",
        "\n",
        "        # h should have dimensions [batch_size, seq_len, d_model, state_size]\n",
        "        self.h = torch.zeros(batch_size, self.seq_len, self.d_model, self.state_size, device=device)\n",
        "        self.y = torch.zeros(batch_size, self.seq_len, self.d_model, device=device)\n",
        "\n",
        "\n",
        "    def discretization(self):\n",
        "        # discretization function is defined based on the MAMBA paper's description using ZOH on page 28\n",
        "        # in Section C : Mechanics on Selective SSMs\n",
        "        # See also \"Zero-order hold discretization\" maths proof inside https://studywolf.wordpress.com/tag/zero-order-hold/\n",
        "        \"\"\"\n",
        "        Here is an explanation of the mathematical rationale for the formulation of Δt used in Mamba:\n",
        "        The key idea is that Δt controls the discretization rate of the continuous SSM dynamics. By making Δt input-dependent, it introduces selectivity into the discrete transition matrices.\n",
        "        Specifically, in Mamba they parameterize Δt as:\n",
        "        Δt = τΔ(Parameter + sΔ(xt))\n",
        "        Where:\n",
        "        - Parameter is a learned scalar parameter that controls the baseline discretization rate\n",
        "        - sΔ(xt) is a projection that makes Δt input-dependent by computing a value based on xt\n",
        "        - τΔ(x) = softplus(x) transforms the result to be positive through the softplus nonlinearity\n",
        "        The rationale for this formulation is:\n",
        "        - Parameter provides a reasonable default discretization rate\n",
        "        - sΔ(xt) injects input-dependence through the projection\n",
        "        - softplus ensures Δt is positive as required to be a valid timestep\n",
        "        - The projection sΔ allows the model to learn to modulate Δt based on the input xt\n",
        "        - This modulation creates selectivity in how rapidly or slowly the states update\n",
        "        So in summary, the learned input-dependent projection allows Δt, and thus the discrete dynamics, to become selective. The softplus and scalar parameter provide useful inductive biases on top of this flexibility.\n",
        "        The end result is discrete transition matrices that are selective on the input, enabling powerful sequence modeling capabilities.\n",
        "        Credit: Claude2 AI chatbot\n",
        "        \"\"\"\n",
        "\n",
        "        # inverse() only supports square matrix\n",
        "        #dB = torch.matmul(torch.inverse(A * delta), torch.matmul(dA - torch.eye(A.shape[0]), B))\n",
        "        self.dB = torch.einsum(\"bld,bln->bldn\", self.delta, self.B)\n",
        "\n",
        "        # https://github.com/state-spaces/mamba/blob/0131c1e94a46fc9f70bcfc9d57962963bb2f0b9e/mamba_ssm/modules/mamba_simple.py#L240\n",
        "        #dA = torch.matrix_exp(A * delta)  # matrix_exp() only supports square matrix\n",
        "        self.dA = torch.exp(torch.einsum(\"bld,dn->bldn\", self.delta, self.A))\n",
        "        #print(f\"self.dA.shape = {self.dA.shape}\")\n",
        "        #print(f\"self.dA.requires_grad = {self.dA.requires_grad}\")\n",
        "\n",
        "        return self.dA, self.dB\n",
        "\n",
        "    def forward(self, x):\n",
        "        # Refer to Algorithm 2 in the MAMBA paper\n",
        "        self.B = self.fc2(x)\n",
        "        self.C = self.fc3(x)\n",
        "        self.delta = F.softplus(self.fc1(x))\n",
        "\n",
        "        # Uses ZOH as in MAMBA, Hungry Hungry Hippo still uses bilinear transform for discretization\n",
        "        self.discretization()\n",
        "\n",
        "        if DIFFERENT_H_STATES_RECURRENT_UPDATE_MECHANISM:  # this will trigger in-place runtime error if without using `h_new`\n",
        "\n",
        "            global current_batch_size\n",
        "            current_batch_size = x.shape[0]\n",
        "\n",
        "            if self.h.shape[0] != current_batch_size:\n",
        "                #print(\"Adjusting h_new for the different batch size of input data `x`\")\n",
        "                different_batch_size = True\n",
        "\n",
        "                # Resize self.h to match the current batch size\n",
        "                h_new =  torch.einsum('bldn,bldn->bldn', self.dA, self.h[:current_batch_size, ...]) + rearrange(x, \"b l d -> b l d 1\") * self.dB\n",
        "\n",
        "            else:\n",
        "                different_batch_size = False\n",
        "                h_new =  torch.einsum('bldn,bldn->bldn', self.dA, self.h) + rearrange(x, \"b l d -> b l d 1\") * self.dB\n",
        "\n",
        "            # y needs to have a shape of [batch_size, seq_len, d_model]\n",
        "            self.y = torch.einsum('bln,bldn->bld', self.C, h_new)\n",
        "\n",
        "            # Update self.h with the detached state of h_new\n",
        "            # Only do this if retaining gradients for self.h is not necessary for backprop\n",
        "            # Otherwise, store h_new in a temporary list and update self.h after the loop\n",
        "            global temp_buffer\n",
        "            temp_buffer = h_new.detach().clone() if not self.h.requires_grad else h_new.clone()\n",
        "\n",
        "            return self.y\n",
        "\n",
        "        else:  # this will not trigger in-place runtime error\n",
        "            # h should have dimensions [batch_size, seq_len, d_model, state_size]\n",
        "            h = torch.zeros(x.size(0), self.seq_len, self.d_model, self.state_size, device=x.device)\n",
        "            y = torch.zeros_like(x)\n",
        "\n",
        "            h =  torch.einsum('bldn,bldn->bldn', self.dA, h) + rearrange(x, \"b l d -> b l d 1\") * self.dB\n",
        "\n",
        "            # y needs to have a shape of [batch_size, seq_len, d_model]\n",
        "            y = torch.einsum('bln,bldn->bld', self.C, h)\n",
        "\n",
        "            return y"
      ],
      "metadata": {
        "id": "jS41_XfhrJwS"
      },
      "execution_count": 32,
      "outputs": []
    },
    {
      "cell_type": "markdown",
      "source": [
        "**Mamba Block**"
      ],
      "metadata": {
        "id": "7SkGv7npX7tA"
      }
    },
    {
      "cell_type": "code",
      "source": [
        "class MambaBlock(nn.Module):\n",
        "    def __init__(self, seq_len, d_model, state_size, device):\n",
        "        super(MambaBlock, self).__init__()\n",
        "\n",
        "        self.inp_proj = nn.Linear(d_model, 2*d_model, device=device)\n",
        "        self.out_proj = nn.Linear(2*d_model, d_model, device=device)\n",
        "\n",
        "        # For residual skip connection\n",
        "        self.D = nn.Linear(d_model, 2*d_model, device=device)\n",
        "\n",
        "        # Set _no_weight_decay attribute on bias\n",
        "        self.out_proj.bias._no_weight_decay = True\n",
        "\n",
        "        # Initialize bias to a small constant value\n",
        "        nn.init.constant_(self.out_proj.bias, 1.0)\n",
        "\n",
        "        self.S6 = S6(seq_len, 2*d_model, state_size, device)\n",
        "\n",
        "        # Add 1D convolution with kernel size 3\n",
        "        self.conv = nn.Conv1d(seq_len, seq_len, kernel_size=3, padding=1, device=device)\n",
        "\n",
        "        # Add linear layer for conv output\n",
        "        self.conv_linear = nn.Linear(2*d_model, 2*d_model, device=device)\n",
        "\n",
        "        # rmsnorm\n",
        "        self.norm = RMSNorm(d_model, device=device)\n",
        "\n",
        "    def forward(self, x):\n",
        "        \"\"\"\n",
        "        x_proj.shape = torch.Size([batch_size, seq_len, 2*d_model])\n",
        "        x_conv.shape = torch.Size([batch_size, seq_len, 2*d_model])\n",
        "        x_conv_act.shape = torch.Size([batch_size, seq_len, 2*d_model])\n",
        "        \"\"\"\n",
        "        # Refer to Figure 3 in the MAMBA paper\n",
        "\n",
        "        x = self.norm(x)\n",
        "\n",
        "        x_proj = self.inp_proj(x)\n",
        "        #print(f\"x_proj.shape = {x_proj.shape}\")\n",
        "\n",
        "        # Add 1D convolution with kernel size 3\n",
        "        x_conv = self.conv(x_proj)\n",
        "        #print(f\"x_conv.shape = {x_conv.shape}\")\n",
        "\n",
        "        x_conv_act = F.silu(x_conv)\n",
        "        #print(f\"x_conv_act.shape = {x_conv_act.shape}\")\n",
        "\n",
        "        # Add linear layer for conv output\n",
        "        x_conv_out = self.conv_linear(x_conv_act)\n",
        "        #print(f\"x_conv_out.shape = {x_conv_out.shape}\")\n",
        "\n",
        "        x_ssm = self.S6(x_conv_out)\n",
        "        x_act = F.silu(x_ssm)  # Swish activation can be implemented as x * sigmoid(x)\n",
        "        #print(f\"x_act.shape = {x_act.shape}\")\n",
        "\n",
        "        # residual skip connection with nonlinearity introduced by multiplication\n",
        "        x_residual = F.silu(self.D(x))\n",
        "        #print(f\"x_residual.shape = {x_residual.shape}\")\n",
        "        x_combined = x_act * x_residual\n",
        "        #print(f\"x_combined.shape = {x_combined.shape}\")\n",
        "\n",
        "        x_out = self.out_proj(x_combined)\n",
        "        #print(f\"x_out.shape = {x_out.shape}\")\n",
        "\n",
        "        return x_out\n"
      ],
      "metadata": {
        "id": "3d_muewdX9y2"
      },
      "execution_count": 33,
      "outputs": []
    },
    {
      "cell_type": "markdown",
      "source": [
        "**Defining Mamba Model**"
      ],
      "metadata": {
        "id": "EJknLc-9iDE1"
      }
    },
    {
      "cell_type": "code",
      "source": [
        "class Mamba(nn.Module):\n",
        "    def __init__(self, seq_len, d_model, state_size, device):\n",
        "        super(Mamba, self).__init__()\n",
        "        self.mamba_block1 = MambaBlock(seq_len, d_model, state_size, device)\n",
        "        self.mamba_block2 = MambaBlock(seq_len, d_model, state_size, device)\n",
        "        self.mamba_block3 = MambaBlock(seq_len, d_model, state_size, device)\n",
        "\n",
        "    def forward(self, x):\n",
        "        x = self.mamba_block1(x)\n",
        "        x = self.mamba_block2(x)\n",
        "        x = self.mamba_block3(x)\n",
        "        return x"
      ],
      "metadata": {
        "id": "a1MkHpopiFOT"
      },
      "execution_count": 35,
      "outputs": []
    },
    {
      "cell_type": "markdown",
      "source": [
        "**RMS Norm**"
      ],
      "metadata": {
        "id": "OQdFt3enjO5I"
      }
    },
    {
      "cell_type": "code",
      "source": [
        "class RMSNorm(nn.Module):\n",
        "    def __init__(self,\n",
        "                 d_model: int,\n",
        "                 eps: float = 1e-5,\n",
        "                 device: str ='cuda'):\n",
        "        super().__init__()\n",
        "        self.eps = eps\n",
        "        self.weight = nn.Parameter(torch.ones(d_model, device=device))\n",
        "\n",
        "\n",
        "    def forward(self, x):\n",
        "        output = x * torch.rsqrt(x.pow(2).mean(-1, keepdim=True) + self.eps) * self.weight\n",
        "\n",
        "        return output"
      ],
      "metadata": {
        "id": "1dpsDMXRjLry"
      },
      "execution_count": 34,
      "outputs": []
    },
    {
      "cell_type": "markdown",
      "source": [
        "**Example usage**"
      ],
      "metadata": {
        "id": "xrCsc7ZJkK5P"
      }
    },
    {
      "cell_type": "code",
      "source": [
        "x = torch.rand(batch_size, seq_len, d_model, device=device)\n",
        "# Create the Mamba model\n",
        "mamba = Mamba(seq_len, d_model, state_size, device)\n",
        "\n",
        "# rmsnorm\n",
        "norm = RMSNorm(d_model)\n",
        "x = norm(x)\n",
        "\n",
        "# Forward pass\n",
        "test_output = mamba(x)\n",
        "print(f\"test_output.shape = {test_output.shape}\")  # Should be [batch_size, seq_len, d_model]"
      ],
      "metadata": {
        "colab": {
          "base_uri": "https://localhost:8080/"
        },
        "id": "cGAZF6MHkCnF",
        "outputId": "b4b392ad-9fce-450a-e3b4-4b948a018791"
      },
      "execution_count": 36,
      "outputs": [
        {
          "output_type": "stream",
          "name": "stdout",
          "text": [
            "test_output.shape = torch.Size([256, 100, 8])\n"
          ]
        }
      ]
    },
    {
      "cell_type": "markdown",
      "source": [
        "**Data Prep and Training Functions**"
      ],
      "metadata": {
        "id": "QhZcwu-llGcV"
      }
    },
    {
      "cell_type": "code",
      "source": [
        "class Enwiki8Dataset(Dataset):\n",
        "    def __init__(self, data):\n",
        "        self.data = data\n",
        "\n",
        "    def __len__(self):\n",
        "        return len(self.data['input_ids'])\n",
        "\n",
        "    def __getitem__(self, idx):\n",
        "        item = {key: val[idx].clone().detach() for key, val in self.data.items()}\n",
        "        return item"
      ],
      "metadata": {
        "id": "txNK9u1RlLfO"
      },
      "execution_count": 37,
      "outputs": []
    },
    {
      "cell_type": "markdown",
      "source": [
        "**Padding**"
      ],
      "metadata": {
        "id": "Aphz6onamB7X"
      }
    },
    {
      "cell_type": "code",
      "source": [
        "# Define a function for padding\n",
        "def pad_sequences_3d(sequences, max_len=None, pad_value=0):\n",
        "    # Assuming sequences is a tensor of shape (batch_size, seq_len, feature_size)\n",
        "    batch_size, seq_len, feature_size = sequences.shape\n",
        "\n",
        "    if max_len is None:\n",
        "        max_len = seq_len + 1\n",
        "\n",
        "\n",
        "    # Initialize padded_sequences with the pad_value\n",
        "    padded_sequences = torch.full((batch_size, max_len, feature_size), fill_value=pad_value, dtype=sequences.dtype, device=sequences.device)\n",
        "    # Pad each sequence to the max_len\n",
        "    padded_sequences[:, :seq_len, :] = sequences\n",
        "\n",
        "    return padded_sequences"
      ],
      "metadata": {
        "id": "PzitunComDbH"
      },
      "execution_count": 38,
      "outputs": []
    },
    {
      "cell_type": "markdown",
      "source": [
        "**Training Function**"
      ],
      "metadata": {
        "id": "u75DcPwtpG--"
      }
    },
    {
      "cell_type": "code",
      "source": [
        "def train(model, tokenizer, data_loader, optimizer, criterion, device, max_grad_norm=1.0, DEBUGGING_IS_ON=False):\n",
        "    model.train()\n",
        "    total_loss = 0\n",
        "    for batch in data_loader:\n",
        "        optimizer.zero_grad()\n",
        "\n",
        "        input_data = batch['input_ids'].clone().to(device)\n",
        "        attention_mask = batch['attention_mask'].clone().to(device)\n",
        "\n",
        "        # In most sequence modeling tasks, like language modeling, the target should be the next token\n",
        "        # in the sequence rather than the input token itself.\n",
        "        # This is because the model's goal is to predict the next word given the previous words.\n",
        "        # Shift the input data by one position to get the target, so that each target token\n",
        "        # is the next token following the input token.\n",
        "        target = input_data[:, 1:]\n",
        "        input_data = input_data[:, :-1]\n",
        "\n",
        "        # Pad all the sequences in the batch:\n",
        "        input_data = pad_sequences_3d(input_data, pad_value=tokenizer.pad_token_id)\n",
        "        target = pad_sequences_3d(target, max_len=input_data.size(1), pad_value=tokenizer.pad_token_id)\n",
        "\n",
        "        if USE_MAMBA:\n",
        "            output = model(input_data)\n",
        "            loss = criterion(output, target)\n",
        "\n",
        "        loss.backward(retain_graph=True)\n",
        "\n",
        "        # Clip gradients: gradients are modified in place\n",
        "        #torch.nn.utils.clip_grad_norm_(model.parameters(), max_grad_norm)\n",
        "        for name, param in model.named_parameters():\n",
        "           if 'out_proj.bias' not in name:\n",
        "               # clip weights but not bias for out_proj\n",
        "               torch.nn.utils.clip_grad_norm_(param, max_norm=max_grad_norm)\n",
        "\n",
        "        if DEBUGGING_IS_ON:\n",
        "            for name, parameter in model.named_parameters():\n",
        "                if parameter.grad is not None:\n",
        "                    print(f\"{name} gradient: {parameter.grad.data.norm(2)}\")\n",
        "                else:\n",
        "                    print(f\"{name} has no gradient\")\n",
        "\n",
        "        if USE_MAMBA and DIFFERENT_H_STATES_RECURRENT_UPDATE_MECHANISM:\n",
        "            model.S6.h[:current_batch_size, ...].copy_(temp_buffer)\n",
        "\n",
        "        optimizer.step()\n",
        "\n",
        "        total_loss += loss.item()\n",
        "    return total_loss / len(data_loader)"
      ],
      "metadata": {
        "id": "ZCxOUFX4pKmD"
      },
      "execution_count": 39,
      "outputs": []
    },
    {
      "cell_type": "markdown",
      "source": [
        "**EVALUATE**"
      ],
      "metadata": {
        "id": "IkaMt4pFtQOJ"
      }
    },
    {
      "cell_type": "code",
      "source": [
        "def evaluate(model, data_loader, criterion, device):\n",
        "    model.eval()\n",
        "    total_loss = 0\n",
        "    with torch.no_grad():\n",
        "        for batch in data_loader:\n",
        "            input_data = batch['input_ids'].clone().detach().to(device)\n",
        "            attention_mask = batch['attention_mask'].clone().detach().to(device)\n",
        "\n",
        "            # In most sequence modeling tasks, like language modeling, the target should be the next token\n",
        "            # in the sequence rather than the input token itself.\n",
        "            # This is because the model's goal is to predict the next word given the previous words.\n",
        "            # Shift the input data by one position to get the target, so that each target token\n",
        "            # is the next token following the input token.\n",
        "            target = input_data[:, 1:]\n",
        "            input_data = input_data[:, :-1]\n",
        "\n",
        "            # Pad all the sequences in the batch:\n",
        "            input_data = pad_sequences_3d(input_data, pad_value=tokenizer.pad_token_id)\n",
        "            target = pad_sequences_3d(target, max_len=input_data.size(1), pad_value=tokenizer.pad_token_id)\n",
        "\n",
        "            if USE_MAMBA:\n",
        "                output = model(input_data)\n",
        "                loss = criterion(output, target)\n",
        "            total_loss += loss.item()\n",
        "    return total_loss / len(data_loader)"
      ],
      "metadata": {
        "id": "vXjw7H0ytT4s"
      },
      "execution_count": 40,
      "outputs": []
    },
    {
      "cell_type": "markdown",
      "source": [
        "**Perplexity**"
      ],
      "metadata": {
        "id": "6BvFTaiguQPg"
      }
    },
    {
      "cell_type": "code",
      "source": [
        "def calculate_perplexity(loss):\n",
        "    return math.exp(loss)"
      ],
      "metadata": {
        "id": "hMaubN5T5I09"
      },
      "execution_count": 20,
      "outputs": []
    },
    {
      "cell_type": "code",
      "source": [
        "def load_enwiki8_dataset():\n",
        "    print(f\"Download and extract enwiki8 data\")\n",
        "    url = \"http://mattmahoney.net/dc/enwik8.zip\"\n",
        "    urllib.request.urlretrieve(url, \"enwik8.zip\")\n",
        "\n",
        "    with ZipFile(\"enwik8.zip\") as f:\n",
        "        data = f.read(\"enwik8\").decode(\"utf-8\")\n",
        "\n",
        "    return data"
      ],
      "metadata": {
        "id": "JcKC9vBEtemu"
      },
      "execution_count": 21,
      "outputs": []
    },
    {
      "cell_type": "markdown",
      "source": [
        "**Encode Dataset**"
      ],
      "metadata": {
        "id": "WOgHcQLxu387"
      }
    },
    {
      "cell_type": "code",
      "source": [
        "# Tokenize and encode the dataset\n",
        "def encode_dataset(tokenizer, text_data):\n",
        "    def batch_encode(tokenizer, text_data, batch_size=1000):\n",
        "        # Tokenize in batches\n",
        "        batched_input_ids = []\n",
        "        for i in range(0, len(text_data), batch_size):\n",
        "            batch = text_data[i:i+batch_size]\n",
        "            inputs = tokenizer(batch, add_special_tokens=True, truncation=True,\n",
        "                               padding='max_length', max_length=seq_len,\n",
        "                               return_tensors='pt')\n",
        "            batched_input_ids.append(inputs['input_ids'])\n",
        "        return torch.cat(batched_input_ids)\n",
        "\n",
        "    # Assuming enwiki8_data is a list of sentences\n",
        "    input_ids = batch_encode(tokenizer, enwiki8_data)\n",
        "\n",
        "    # vocab_size is the number of unique tokens in the tokenizer's vocabulary\n",
        "    global vocab_size\n",
        "    vocab_size = len(tokenizer.vocab)  # Note that for some tokenizers, we might access the vocab directly\n",
        "    print(f\"vocab_size = {vocab_size}\")\n",
        "\n",
        "    # Create an embedding layer\n",
        "    # embedding_dim is the size of the embedding vectors (MAMBA model's D)\n",
        "    embedding_layer = nn.Embedding(num_embeddings=vocab_size, embedding_dim=d_model)\n",
        "\n",
        "    # Pass `input_ids` through the embedding layer\n",
        "    # This will change `input_ids` from shape [B, L] to [B, L, D]\n",
        "    #encoded_input = embedding_layer(input_ids)   ## this eats memory, so use batched_embedding_calls instead\n",
        "    def batch_embedding_calls(input_ids, embedding_layer, batch_size=256):\n",
        "        # Check if input_ids is already a tensor, if not convert it\n",
        "        if not isinstance(input_ids, torch.Tensor):\n",
        "            input_ids = torch.tensor(input_ids, dtype=torch.long)\n",
        "\n",
        "        # Calculate the number of batches needed\n",
        "        num_batches = math.ceil(input_ids.size(0) / batch_size)\n",
        "\n",
        "        # List to hold the output embeddings\n",
        "        output_embeddings = []\n",
        "\n",
        "        # Process each batch\n",
        "        for i in range(num_batches):\n",
        "            # Calculate start and end indices for the current batch\n",
        "            start_idx = i * batch_size\n",
        "            end_idx = start_idx + batch_size\n",
        "\n",
        "            # Get the batch\n",
        "            input_id_batch = input_ids[start_idx:end_idx]\n",
        "\n",
        "            # Call the embedding layer\n",
        "            with torch.no_grad():  # No need gradients for this operation\n",
        "                batch_embeddings = embedding_layer(input_id_batch)\n",
        "\n",
        "            # Append the result to the list\n",
        "            output_embeddings.append(batch_embeddings)\n",
        "\n",
        "        # Concatenate the embeddings from each batch into a single tensor\n",
        "        all_embeddings = torch.cat(output_embeddings, dim=0)\n",
        "\n",
        "        return all_embeddings\n",
        "\n",
        "    # `input_ids` is a list or tensor of the input IDs and `embedding_layer` is model's embedding layer\n",
        "    if USE_MAMBA:\n",
        "        # Set `batch_size` to a value that works for memory constraints\n",
        "        encoded_inputs = batch_embedding_calls(input_ids, embedding_layer, batch_size=1).float()\n",
        "\n",
        "    attention_mask = (input_ids != tokenizer.pad_token_id).type(input_ids.dtype)\n",
        "\n",
        "    return encoded_inputs, attention_mask"
      ],
      "metadata": {
        "id": "yiBycPzqu6Db"
      },
      "execution_count": 41,
      "outputs": []
    },
    {
      "cell_type": "markdown",
      "source": [
        "**Tokenzation**"
      ],
      "metadata": {
        "id": "oAcKZPa_02Cz"
      }
    },
    {
      "cell_type": "code",
      "source": [
        "from huggingface_hub import notebook_login\n",
        "notebook_login()"
      ],
      "metadata": {
        "colab": {
          "base_uri": "https://localhost:8080/",
          "height": 145,
          "referenced_widgets": [
            "17051d49932344d7800dd4218be19791",
            "d41e0ca106794f67a36b85104b941faa",
            "1e99fc16de314e9e81ebc0c1956c2d28",
            "19676dd7a0154225bbed51f7c3806f3d",
            "2d4cc2ddf76b4c42bbd48d41ec45798c",
            "0f3c62bc70d04af6addd8dc25ef7a42c",
            "bc4e91cc8b3d4925bdf21a7e464527e1",
            "9f60094953764831bc040dc1c560ef52",
            "23f2811e554744178350211ebd70821f",
            "fd6ade4c523f4cab87c4952bfd0cd024",
            "0fd02230517e46b580fa1128b3cd9052",
            "b922ebbc15a04a5294f25d4b868d1350",
            "c62407bc83934f72a52b1b3fc107852c",
            "568cde145e8b489aa8a89f1096f239c3",
            "44fd79283a5948c99d117d57f09edae7",
            "e18b9645b5c44371a17c6c7cfef08bf4",
            "a1b428923c7f4516a0961547618af811",
            "fac18c52b37f4f969c737054af984e63",
            "be365d64134847f692513e3947620caa",
            "56eff172d94f479293e39bc494658e2a",
            "b832a9a3b4de41a6b0c7e60a9ba7a6ac",
            "912d9c9ebf1049b4ac2767f3b66d3131",
            "ed64e6a5bebe4c82a9f7013c7e706388",
            "37b4e188aeae42cd82d8efdc1eaad747",
            "d3071cb8ba264fec8e7a066cc8e3be6e",
            "222ce878d2a9415b8f4e540d387d9b07",
            "abca162020834b6e9a621d33120aa130",
            "ef32fbb014754d60a86e0d099b7ea62b",
            "33dab2bf20764fc6a98633eb6fc5619c",
            "178c38026d9f4c3cbf17381a5d86f31a",
            "9b2d9c64f32844428342637895998b8c",
            "4b669545492d4dbea96de5b646329522"
          ]
        },
        "id": "WfcsPcHb7LcK",
        "outputId": "4359fa46-7750-4f34-f3d8-d08d540e5c27"
      },
      "execution_count": 25,
      "outputs": [
        {
          "output_type": "display_data",
          "data": {
            "text/plain": [
              "VBox(children=(HTML(value='<center> <img\\nsrc=https://huggingface.co/front/assets/huggingface_logo-noborder.sv…"
            ],
            "application/vnd.jupyter.widget-view+json": {
              "version_major": 2,
              "version_minor": 0,
              "model_id": "17051d49932344d7800dd4218be19791"
            }
          },
          "metadata": {}
        }
      ]
    },
    {
      "cell_type": "code",
      "source": [
        "#Load a pretrained tokenizer\n",
        "tokenizer = AutoTokenizer.from_pretrained('bert-base-uncased')"
      ],
      "metadata": {
        "colab": {
          "base_uri": "https://localhost:8080/",
          "height": 145,
          "referenced_widgets": [
            "1c5536a135aa460ca95fc0061b3b1801",
            "f42aab0c44c5418ea2471026b0657b09",
            "f6fbb3bfb91240f28c69f7208f8eb915",
            "b73100d2a69c4c058c1a031ef2163fcd",
            "9cce727f85514817b6fb857d79a49d33",
            "9a8c32b12c1b44f3b1599bb5f899e1c1",
            "1326a965cfb349228d93b4b912c7ef97",
            "090a915c74674c2cafed62264fff9a87",
            "1a40159f4d2049bd9f525c94b7754d2b",
            "95565ae1b2ad4a648bc07c59d296384f",
            "f9989d0aff6c4793ad9180abd324e35f",
            "193a19c4501b441fa75b1534e7e30e54",
            "2db1ceacbbda4a5c8a320819483c6616",
            "d65ca194d8ba4b828260ff2edd56ac27",
            "e836c6d3b701440ea85ee6af87f7d4e1",
            "e608aadec08441dfaf103bcb88cdef95",
            "83a521849734427988545984a146ab56",
            "d36f1889b8234a419de43fca08fa6f16",
            "deee437291c64a40899eb82d8b18e9d1",
            "b82030764f32467fb71038d69dce010a",
            "410ae90353cf46a1b856ed35e85be9ef",
            "b3d1219259274f80ad86a8e80aae4ad0",
            "65f6ea97347f481d84bf9e47d7794713",
            "c6376f9d77f749c28a3134e7619d2101",
            "d7cb1954edab4a24b3f16c488c7a96cd",
            "923ba84d3cfd42de9a42af92d5c8f4d9",
            "209d1745d8cb485fa21b3014e8ebf052",
            "24dfbc7157414290ab9258ca64d96c1d",
            "232775ea22d54276a3a217ce8df313e9",
            "d6bd251317454ddc832bd3adb1d06e85",
            "9f9d4d24373741e68e6b658b8faef498",
            "bb93a33c828b42a19904ecd05bae71f9",
            "531bcd3767a34d5fa8c9459b28ace480",
            "e20d13a437d74b07b24c423deafa6c34",
            "b18c150ba4194d5fa93b74903c2dd3a5",
            "cd9543b2e33e47859a7e4a2b0f8cd040",
            "cfaeec5514ef421f8430deabb2b25444",
            "40d9a4477385479898d572722c105670",
            "624a0d333ade41bbb77af919cb726618",
            "06c18be163da4cf1ba35e25d00397fa5",
            "525d1e803a654ea9ac8d1753dee9c07e",
            "83227345cc404ef8b1c91d8e075707ae",
            "f754af98b87644c08e950ef1e0df1c84",
            "1b20900f2d7944b7909aa7b1f680fcc2"
          ]
        },
        "id": "sc4qBxnU04ta",
        "outputId": "76501944-eb4e-4495-e002-6dd3ad1bb2a4"
      },
      "execution_count": 27,
      "outputs": [
        {
          "output_type": "display_data",
          "data": {
            "text/plain": [
              "tokenizer_config.json:   0%|          | 0.00/28.0 [00:00<?, ?B/s]"
            ],
            "application/vnd.jupyter.widget-view+json": {
              "version_major": 2,
              "version_minor": 0,
              "model_id": "1c5536a135aa460ca95fc0061b3b1801"
            }
          },
          "metadata": {}
        },
        {
          "output_type": "display_data",
          "data": {
            "text/plain": [
              "config.json:   0%|          | 0.00/570 [00:00<?, ?B/s]"
            ],
            "application/vnd.jupyter.widget-view+json": {
              "version_major": 2,
              "version_minor": 0,
              "model_id": "193a19c4501b441fa75b1534e7e30e54"
            }
          },
          "metadata": {}
        },
        {
          "output_type": "display_data",
          "data": {
            "text/plain": [
              "vocab.txt:   0%|          | 0.00/232k [00:00<?, ?B/s]"
            ],
            "application/vnd.jupyter.widget-view+json": {
              "version_major": 2,
              "version_minor": 0,
              "model_id": "65f6ea97347f481d84bf9e47d7794713"
            }
          },
          "metadata": {}
        },
        {
          "output_type": "display_data",
          "data": {
            "text/plain": [
              "tokenizer.json:   0%|          | 0.00/466k [00:00<?, ?B/s]"
            ],
            "application/vnd.jupyter.widget-view+json": {
              "version_major": 2,
              "version_minor": 0,
              "model_id": "e20d13a437d74b07b24c423deafa6c34"
            }
          },
          "metadata": {}
        }
      ]
    },
    {
      "cell_type": "markdown",
      "source": [
        "**Model Training**"
      ],
      "metadata": {
        "id": "oK_j0ai31DGw"
      }
    },
    {
      "cell_type": "code",
      "source": [
        "# Assuming encoded_inputs is a preprocessed tensor of shape [num_samples, seq_len, d_model]\n",
        "encoded_inputs_file = 'encoded_inputs_mamba.pt'\n",
        "\n",
        "\n",
        "if os.path.exists(encoded_inputs_file):\n",
        "    print(\"Loading pre-tokenized data...\")\n",
        "    encoded_inputs = torch.load(encoded_inputs_file)\n",
        "else:\n",
        "    print(\"Tokenizing raw data...\")\n",
        "    enwiki8_data = load_enwiki8_dataset()\n",
        "    encoded_inputs, attention_mask = encode_dataset(tokenizer, enwiki8_data)\n",
        "    torch.save(encoded_inputs, encoded_inputs_file)\n",
        "    print(f\"finished tokenizing data\")\n",
        "\n",
        "\n",
        "# Combine into a single dictionary\n",
        "data = {\n",
        "    'input_ids': encoded_inputs,\n",
        "    'attention_mask': attention_mask\n",
        "}\n",
        "\n",
        "# Split the data into train and validation sets\n",
        "total_size = len(data['input_ids'])\n",
        "train_size = int(total_size * 0.8)\n",
        "\n",
        "train_data = {key: val[:train_size] for key, val in data.items()}\n",
        "val_data = {key: val[train_size:] for key, val in data.items()}\n",
        "\n",
        "train_dataset = Enwiki8Dataset(train_data)\n",
        "val_dataset = Enwiki8Dataset(val_data)\n",
        "\n",
        "\n",
        "train_loader = DataLoader(train_dataset, batch_size=batch_size, shuffle=True)\n",
        "val_loader = DataLoader(val_dataset, batch_size=batch_size, shuffle=False)\n",
        "\n",
        "\n",
        "# Initialize the model\n",
        "\n",
        "model = Mamba(seq_len, d_model, state_size, device).to(device)\n",
        "\n",
        "# Define the loss function and optimizer\n",
        "criterion = nn.CrossEntropyLoss()\n",
        "optimizer = optim.AdamW(model.parameters(), lr=5e-6)\n",
        "\n",
        "# Training loop\n",
        "num_epochs = 25  # Number of epochs to train for\n",
        "\n",
        "for epoch in tqdm(range(num_epochs)):  # loop over the dataset multiple times\n",
        "    train_loss = train(model, tokenizer, train_loader, optimizer, criterion, device, max_grad_norm=10.0, DEBUGGING_IS_ON=False)\n",
        "    val_loss = evaluate(model, val_loader, criterion, device)\n",
        "    val_perplexity = calculate_perplexity(val_loss)\n",
        "    print(f'Epoch: {epoch+1}, Training Loss: {train_loss:.4f}, Validation Loss: {val_loss:.4f}, Validation Perplexity: {val_perplexity:.4f}')"
      ],
      "metadata": {
        "colab": {
          "base_uri": "https://localhost:8080/"
        },
        "id": "eWnJ81h21Isu",
        "outputId": "99fa9fba-6c0d-4f11-cea4-e4ef6bf0ad1b"
      },
      "execution_count": 42,
      "outputs": [
        {
          "output_type": "stream",
          "name": "stdout",
          "text": [
            "Loading pre-tokenized data...\n"
          ]
        },
        {
          "output_type": "stream",
          "name": "stderr",
          "text": [
            "  4%|▍         | 1/25 [01:22<33:03, 82.64s/it]"
          ]
        },
        {
          "output_type": "stream",
          "name": "stdout",
          "text": [
            "Epoch: 1, Training Loss: 11.3183, Validation Loss: 10.6180, Validation Perplexity: 40862.3771\n"
          ]
        },
        {
          "output_type": "stream",
          "name": "stderr",
          "text": [
            "\r  8%|▊         | 2/25 [02:41<30:54, 80.64s/it]"
          ]
        },
        {
          "output_type": "stream",
          "name": "stdout",
          "text": [
            "Epoch: 2, Training Loss: 11.3192, Validation Loss: 10.6149, Validation Perplexity: 40737.5469\n"
          ]
        },
        {
          "output_type": "stream",
          "name": "stderr",
          "text": [
            "\r 12%|█▏        | 3/25 [04:01<29:21, 80.07s/it]"
          ]
        },
        {
          "output_type": "stream",
          "name": "stdout",
          "text": [
            "Epoch: 3, Training Loss: 11.3081, Validation Loss: 10.6053, Validation Perplexity: 40346.5095\n"
          ]
        },
        {
          "output_type": "stream",
          "name": "stderr",
          "text": [
            "\r 16%|█▌        | 4/25 [05:20<27:57, 79.87s/it]"
          ]
        },
        {
          "output_type": "stream",
          "name": "stdout",
          "text": [
            "Epoch: 4, Training Loss: 11.2573, Validation Loss: 10.4317, Validation Perplexity: 33916.5903\n"
          ]
        },
        {
          "output_type": "stream",
          "name": "stderr",
          "text": [
            "\r 20%|██        | 5/25 [06:40<26:35, 79.80s/it]"
          ]
        },
        {
          "output_type": "stream",
          "name": "stdout",
          "text": [
            "Epoch: 5, Training Loss: 10.3741, Validation Loss: 8.3305, Validation Perplexity: 4148.4571\n"
          ]
        },
        {
          "output_type": "stream",
          "name": "stderr",
          "text": [
            "\r 24%|██▍       | 6/25 [08:00<25:14, 79.70s/it]"
          ]
        },
        {
          "output_type": "stream",
          "name": "stdout",
          "text": [
            "Epoch: 6, Training Loss: 5.4882, Validation Loss: -1.1841, Validation Perplexity: 0.3060\n"
          ]
        },
        {
          "output_type": "stream",
          "name": "stderr",
          "text": [
            "\r 28%|██▊       | 7/25 [09:19<23:51, 79.53s/it]"
          ]
        },
        {
          "output_type": "stream",
          "name": "stdout",
          "text": [
            "Epoch: 7, Training Loss: -9.2504, Validation Loss: -22.7022, Validation Perplexity: 0.0000\n"
          ]
        },
        {
          "output_type": "stream",
          "name": "stderr",
          "text": [
            "\r 32%|███▏      | 8/25 [10:38<22:31, 79.51s/it]"
          ]
        },
        {
          "output_type": "stream",
          "name": "stdout",
          "text": [
            "Epoch: 8, Training Loss: -40.6098, Validation Loss: -68.6043, Validation Perplexity: 0.0000\n"
          ]
        },
        {
          "output_type": "stream",
          "name": "stderr",
          "text": [
            "\r 36%|███▌      | 9/25 [11:58<21:11, 79.46s/it]"
          ]
        },
        {
          "output_type": "stream",
          "name": "stdout",
          "text": [
            "Epoch: 9, Training Loss: -108.6813, Validation Loss: -164.8834, Validation Perplexity: 0.0000\n"
          ]
        },
        {
          "output_type": "stream",
          "name": "stderr",
          "text": [
            "\r 40%|████      | 10/25 [13:17<19:51, 79.41s/it]"
          ]
        },
        {
          "output_type": "stream",
          "name": "stdout",
          "text": [
            "Epoch: 10, Training Loss: -238.4358, Validation Loss: -337.7095, Validation Perplexity: 0.0000\n"
          ]
        },
        {
          "output_type": "stream",
          "name": "stderr",
          "text": [
            "\r 44%|████▍     | 11/25 [14:36<18:32, 79.44s/it]"
          ]
        },
        {
          "output_type": "stream",
          "name": "stdout",
          "text": [
            "Epoch: 11, Training Loss: -465.4000, Validation Loss: -637.5301, Validation Perplexity: 0.0000\n"
          ]
        },
        {
          "output_type": "stream",
          "name": "stderr",
          "text": [
            "\r 48%|████▊     | 12/25 [15:56<17:12, 79.43s/it]"
          ]
        },
        {
          "output_type": "stream",
          "name": "stdout",
          "text": [
            "Epoch: 12, Training Loss: -852.7560, Validation Loss: -1143.2005, Validation Perplexity: 0.0000\n"
          ]
        },
        {
          "output_type": "stream",
          "name": "stderr",
          "text": [
            "\r 52%|█████▏    | 13/25 [17:15<15:53, 79.48s/it]"
          ]
        },
        {
          "output_type": "stream",
          "name": "stdout",
          "text": [
            "Epoch: 13, Training Loss: -1508.9915, Validation Loss: -1998.6552, Validation Perplexity: 0.0000\n"
          ]
        },
        {
          "output_type": "stream",
          "name": "stderr",
          "text": [
            "\r 56%|█████▌    | 14/25 [18:35<14:33, 79.45s/it]"
          ]
        },
        {
          "output_type": "stream",
          "name": "stdout",
          "text": [
            "Epoch: 14, Training Loss: -2608.2004, Validation Loss: -3430.4850, Validation Perplexity: 0.0000\n"
          ]
        },
        {
          "output_type": "stream",
          "name": "stderr",
          "text": [
            "\r 60%|██████    | 15/25 [19:54<13:15, 79.53s/it]"
          ]
        },
        {
          "output_type": "stream",
          "name": "stdout",
          "text": [
            "Epoch: 15, Training Loss: -4469.3016, Validation Loss: -5810.6782, Validation Perplexity: 0.0000\n"
          ]
        },
        {
          "output_type": "stream",
          "name": "stderr",
          "text": [
            "\r 64%|██████▍   | 16/25 [21:16<12:00, 80.04s/it]"
          ]
        },
        {
          "output_type": "stream",
          "name": "stdout",
          "text": [
            "Epoch: 16, Training Loss: -7492.2349, Validation Loss: -9649.8549, Validation Perplexity: 0.0000\n"
          ]
        },
        {
          "output_type": "stream",
          "name": "stderr",
          "text": [
            "\r 68%|██████▊   | 17/25 [22:35<10:39, 79.90s/it]"
          ]
        },
        {
          "output_type": "stream",
          "name": "stdout",
          "text": [
            "Epoch: 17, Training Loss: -12370.7710, Validation Loss: -15871.2533, Validation Perplexity: 0.0000\n"
          ]
        },
        {
          "output_type": "stream",
          "name": "stderr",
          "text": [
            "\r 72%|███████▏  | 18/25 [23:54<09:17, 79.68s/it]"
          ]
        },
        {
          "output_type": "stream",
          "name": "stdout",
          "text": [
            "Epoch: 18, Training Loss: -21254.5854, Validation Loss: -28236.5954, Validation Perplexity: 0.0000\n"
          ]
        },
        {
          "output_type": "stream",
          "name": "stderr",
          "text": [
            "\r 76%|███████▌  | 19/25 [25:14<07:57, 79.59s/it]"
          ]
        },
        {
          "output_type": "stream",
          "name": "stdout",
          "text": [
            "Epoch: 19, Training Loss: -39693.3580, Validation Loss: -50820.7955, Validation Perplexity: 0.0000\n"
          ]
        },
        {
          "output_type": "stream",
          "name": "stderr",
          "text": [
            "\r 80%|████████  | 20/25 [26:34<06:38, 79.75s/it]"
          ]
        },
        {
          "output_type": "stream",
          "name": "stdout",
          "text": [
            "Epoch: 20, Training Loss: -68331.4057, Validation Loss: -83856.3895, Validation Perplexity: 0.0000\n"
          ]
        },
        {
          "output_type": "stream",
          "name": "stderr",
          "text": [
            "\r 84%|████████▍ | 21/25 [27:54<05:19, 79.88s/it]"
          ]
        },
        {
          "output_type": "stream",
          "name": "stdout",
          "text": [
            "Epoch: 21, Training Loss: -109472.0236, Validation Loss: -130589.5627, Validation Perplexity: 0.0000\n"
          ]
        },
        {
          "output_type": "stream",
          "name": "stderr",
          "text": [
            "\r 88%|████████▊ | 22/25 [29:14<03:59, 79.96s/it]"
          ]
        },
        {
          "output_type": "stream",
          "name": "stdout",
          "text": [
            "Epoch: 22, Training Loss: -167562.6956, Validation Loss: -196727.9421, Validation Perplexity: 0.0000\n"
          ]
        },
        {
          "output_type": "stream",
          "name": "stderr",
          "text": [
            "\r 92%|█████████▏| 23/25 [30:34<02:39, 79.91s/it]"
          ]
        },
        {
          "output_type": "stream",
          "name": "stdout",
          "text": [
            "Epoch: 23, Training Loss: -250822.4489, Validation Loss: -292431.0008, Validation Perplexity: 0.0000\n"
          ]
        },
        {
          "output_type": "stream",
          "name": "stderr",
          "text": [
            "\r 96%|█████████▌| 24/25 [31:54<01:20, 80.01s/it]"
          ]
        },
        {
          "output_type": "stream",
          "name": "stdout",
          "text": [
            "Epoch: 24, Training Loss: -367660.4739, Validation Loss: -424600.3518, Validation Perplexity: 0.0000\n"
          ]
        },
        {
          "output_type": "stream",
          "name": "stderr",
          "text": [
            "100%|██████████| 25/25 [33:19<00:00, 79.98s/it]"
          ]
        },
        {
          "output_type": "stream",
          "name": "stdout",
          "text": [
            "Epoch: 25, Training Loss: -529424.2733, Validation Loss: -607372.0300, Validation Perplexity: 0.0000\n"
          ]
        },
        {
          "output_type": "stream",
          "name": "stderr",
          "text": [
            "\n"
          ]
        }
      ]
    }
  ]
}